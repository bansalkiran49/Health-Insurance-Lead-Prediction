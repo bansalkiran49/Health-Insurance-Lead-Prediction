{
 "cells": [
  {
   "cell_type": "markdown",
   "id": "84c5bae3",
   "metadata": {},
   "source": [
    "### Importing Libraries"
   ]
  },
  {
   "cell_type": "code",
   "execution_count": 94,
   "id": "fb615b48",
   "metadata": {},
   "outputs": [],
   "source": [
    "import numpy as np                                          #Importing package numpys (For Numerical Python)\n",
    "import pandas as pd                                         #Importing for panel data analysis\n",
    "pd.set_option('display.max_columns', None)                  # Unfolding hidden features if the cardinality is high\n",
    "#---------------------------------------------------------------------------------------------------------------------\n",
    "import matplotlib.pyplot as plt                             #Importing pyplot interface using matplotlib\n",
    "from matplotlib.pylab import rcParams                       # Backend used for rendering and GUI integration\n",
    "import seaborn as sns                                       #Importin seaborm library for interactive visualization\n",
    "%matplotlib inline\n",
    "#---------------------------------------------------------------------------------------------------------------------\n",
    "import warnings\n",
    "warnings.filterwarnings(\"ignore\")"
   ]
  },
  {
   "cell_type": "markdown",
   "id": "a7682911",
   "metadata": {},
   "source": [
    "### Data Acquisition & Description"
   ]
  },
  {
   "cell_type": "markdown",
   "id": "ac29e816",
   "metadata": {},
   "source": [
    "- This database was created to identify whether a customer will be interested in recommended policy based on user provided data.\n",
    "\n",
    "- The column response is also present in the dataset which has two values 1 and 0.\n",
    "\n",
    "- This is the data that we have to predict for future samples.\n",
    "\n",
    "- DataSet:\n",
    "    - The dataset contains 50882 rows and 14 columns.\n",
    "    - The last column response is the target variable."
   ]
  },
  {
   "cell_type": "markdown",
   "id": "8a37e810",
   "metadata": {},
   "source": [
    "The dataset provided for this project includes the following features:\n",
    "\n",
    "| Feature                 | Description                                                   |\n",
    "|-------------------------|---------------------------------------------------------------|\n",
    "| Customer Id             | Unique identifier for each customer                           |\n",
    "| City_Code               | Code representing the customer's city                          |\n",
    "| Region_Code             | Code representing the customer's region                        |\n",
    "| Accommodation_Type      | Type of accommodation (e.g., owned, rented)                    |\n",
    "| Reco_Insurance_Type     | Recommended insurance type (e.g., joint, single)               |\n",
    "| Upper_Age               | Upper age of the customer                                      |\n",
    "| Lower_Age               | Lower age of the customer                                      |\n",
    "| Is_Spouse               | Customer's relation (in case of a joint policy)                |\n",
    "| Health Indicator        | Current health indicator category                              |\n",
    "| Holding_Policy_Duration | Duration of the current holding policy                         |\n",
    "| Reco_Policy_Cat         | Recommended policy category                                   |\n",
    "| Holding_Policy_Type     | Current holding policy type                                    |\n",
    "| Reco_Policy_Premium     | Recommended policy premium price                              |\n",
    "| Response                | Customer's response towards the proposed health policy (target variable: 1 indicates interest, 0 indicates no interest) |\n"
   ]
  },
  {
   "cell_type": "code",
   "execution_count": 95,
   "id": "0c698ed8",
   "metadata": {
    "scrolled": true
   },
   "outputs": [
    {
     "name": "stdout",
     "output_type": "stream",
     "text": [
      "shape of data: (50882, 14)\n"
     ]
    },
    {
     "data": {
      "text/html": [
       "<div>\n",
       "<style scoped>\n",
       "    .dataframe tbody tr th:only-of-type {\n",
       "        vertical-align: middle;\n",
       "    }\n",
       "\n",
       "    .dataframe tbody tr th {\n",
       "        vertical-align: top;\n",
       "    }\n",
       "\n",
       "    .dataframe thead th {\n",
       "        text-align: right;\n",
       "    }\n",
       "</style>\n",
       "<table border=\"1\" class=\"dataframe\">\n",
       "  <thead>\n",
       "    <tr style=\"text-align: right;\">\n",
       "      <th></th>\n",
       "      <th>ID</th>\n",
       "      <th>City_Code</th>\n",
       "      <th>Region_Code</th>\n",
       "      <th>Accomodation_Type</th>\n",
       "      <th>Reco_Insurance_Type</th>\n",
       "      <th>Upper_Age</th>\n",
       "      <th>Lower_Age</th>\n",
       "      <th>Is_Spouse</th>\n",
       "      <th>Health Indicator</th>\n",
       "      <th>Holding_Policy_Duration</th>\n",
       "      <th>Holding_Policy_Type</th>\n",
       "      <th>Reco_Policy_Cat</th>\n",
       "      <th>Reco_Policy_Premium</th>\n",
       "      <th>Response</th>\n",
       "    </tr>\n",
       "  </thead>\n",
       "  <tbody>\n",
       "    <tr>\n",
       "      <th>0</th>\n",
       "      <td>1</td>\n",
       "      <td>C3</td>\n",
       "      <td>3213</td>\n",
       "      <td>Rented</td>\n",
       "      <td>Individual</td>\n",
       "      <td>36</td>\n",
       "      <td>36</td>\n",
       "      <td>No</td>\n",
       "      <td>X1</td>\n",
       "      <td>14+</td>\n",
       "      <td>3.0</td>\n",
       "      <td>22</td>\n",
       "      <td>11628.0</td>\n",
       "      <td>0</td>\n",
       "    </tr>\n",
       "    <tr>\n",
       "      <th>1</th>\n",
       "      <td>2</td>\n",
       "      <td>C5</td>\n",
       "      <td>1117</td>\n",
       "      <td>Owned</td>\n",
       "      <td>Joint</td>\n",
       "      <td>75</td>\n",
       "      <td>22</td>\n",
       "      <td>No</td>\n",
       "      <td>X2</td>\n",
       "      <td>NaN</td>\n",
       "      <td>NaN</td>\n",
       "      <td>22</td>\n",
       "      <td>30510.0</td>\n",
       "      <td>0</td>\n",
       "    </tr>\n",
       "    <tr>\n",
       "      <th>2</th>\n",
       "      <td>3</td>\n",
       "      <td>C5</td>\n",
       "      <td>3732</td>\n",
       "      <td>Owned</td>\n",
       "      <td>Individual</td>\n",
       "      <td>32</td>\n",
       "      <td>32</td>\n",
       "      <td>No</td>\n",
       "      <td>NaN</td>\n",
       "      <td>1.0</td>\n",
       "      <td>1.0</td>\n",
       "      <td>19</td>\n",
       "      <td>7450.0</td>\n",
       "      <td>1</td>\n",
       "    </tr>\n",
       "    <tr>\n",
       "      <th>3</th>\n",
       "      <td>4</td>\n",
       "      <td>C24</td>\n",
       "      <td>4378</td>\n",
       "      <td>Owned</td>\n",
       "      <td>Joint</td>\n",
       "      <td>52</td>\n",
       "      <td>48</td>\n",
       "      <td>No</td>\n",
       "      <td>X1</td>\n",
       "      <td>14+</td>\n",
       "      <td>3.0</td>\n",
       "      <td>19</td>\n",
       "      <td>17780.0</td>\n",
       "      <td>0</td>\n",
       "    </tr>\n",
       "    <tr>\n",
       "      <th>4</th>\n",
       "      <td>5</td>\n",
       "      <td>C8</td>\n",
       "      <td>2190</td>\n",
       "      <td>Rented</td>\n",
       "      <td>Individual</td>\n",
       "      <td>44</td>\n",
       "      <td>44</td>\n",
       "      <td>No</td>\n",
       "      <td>X2</td>\n",
       "      <td>3.0</td>\n",
       "      <td>1.0</td>\n",
       "      <td>16</td>\n",
       "      <td>10404.0</td>\n",
       "      <td>0</td>\n",
       "    </tr>\n",
       "  </tbody>\n",
       "</table>\n",
       "</div>"
      ],
      "text/plain": [
       "   ID City_Code  Region_Code Accomodation_Type Reco_Insurance_Type  Upper_Age  \\\n",
       "0   1        C3         3213            Rented          Individual         36   \n",
       "1   2        C5         1117             Owned               Joint         75   \n",
       "2   3        C5         3732             Owned          Individual         32   \n",
       "3   4       C24         4378             Owned               Joint         52   \n",
       "4   5        C8         2190            Rented          Individual         44   \n",
       "\n",
       "   Lower_Age Is_Spouse Health Indicator Holding_Policy_Duration  \\\n",
       "0         36        No               X1                     14+   \n",
       "1         22        No               X2                     NaN   \n",
       "2         32        No              NaN                     1.0   \n",
       "3         48        No               X1                     14+   \n",
       "4         44        No               X2                     3.0   \n",
       "\n",
       "   Holding_Policy_Type  Reco_Policy_Cat  Reco_Policy_Premium  Response  \n",
       "0                  3.0               22              11628.0         0  \n",
       "1                  NaN               22              30510.0         0  \n",
       "2                  1.0               19               7450.0         1  \n",
       "3                  3.0               19              17780.0         0  \n",
       "4                  1.0               16              10404.0         0  "
      ]
     },
     "execution_count": 95,
     "metadata": {},
     "output_type": "execute_result"
    }
   ],
   "source": [
    "#Read and load data\n",
    "health = pd.read_csv('train_data.csv')\n",
    "#shape of data\n",
    "print('shape of data:', health.shape)\n",
    "#Display data\n",
    "health.head()"
   ]
  },
  {
   "cell_type": "code",
   "execution_count": 96,
   "id": "ddf9d2ef",
   "metadata": {},
   "outputs": [
    {
     "name": "stdout",
     "output_type": "stream",
     "text": [
      "<class 'pandas.core.frame.DataFrame'>\n",
      "RangeIndex: 50882 entries, 0 to 50881\n",
      "Data columns (total 14 columns):\n",
      " #   Column                   Non-Null Count  Dtype  \n",
      "---  ------                   --------------  -----  \n",
      " 0   ID                       50882 non-null  int64  \n",
      " 1   City_Code                50882 non-null  object \n",
      " 2   Region_Code              50882 non-null  int64  \n",
      " 3   Accomodation_Type        50882 non-null  object \n",
      " 4   Reco_Insurance_Type      50882 non-null  object \n",
      " 5   Upper_Age                50882 non-null  int64  \n",
      " 6   Lower_Age                50882 non-null  int64  \n",
      " 7   Is_Spouse                50882 non-null  object \n",
      " 8   Health Indicator         39191 non-null  object \n",
      " 9   Holding_Policy_Duration  30631 non-null  object \n",
      " 10  Holding_Policy_Type      30631 non-null  float64\n",
      " 11  Reco_Policy_Cat          50882 non-null  int64  \n",
      " 12  Reco_Policy_Premium      50882 non-null  float64\n",
      " 13  Response                 50882 non-null  int64  \n",
      "dtypes: float64(2), int64(6), object(6)\n",
      "memory usage: 5.4+ MB\n"
     ]
    }
   ],
   "source": [
    "health.info()"
   ]
  },
  {
   "cell_type": "markdown",
   "id": "32a87759",
   "metadata": {},
   "source": [
    "### Checking missing values"
   ]
  },
  {
   "cell_type": "code",
   "execution_count": 97,
   "id": "4c52d8fc",
   "metadata": {},
   "outputs": [
    {
     "data": {
      "text/plain": [
       "ID                             0\n",
       "City_Code                      0\n",
       "Region_Code                    0\n",
       "Accomodation_Type              0\n",
       "Reco_Insurance_Type            0\n",
       "Upper_Age                      0\n",
       "Lower_Age                      0\n",
       "Is_Spouse                      0\n",
       "Health Indicator           11691\n",
       "Holding_Policy_Duration    20251\n",
       "Holding_Policy_Type        20251\n",
       "Reco_Policy_Cat                0\n",
       "Reco_Policy_Premium            0\n",
       "Response                       0\n",
       "dtype: int64"
      ]
     },
     "execution_count": 97,
     "metadata": {},
     "output_type": "execute_result"
    }
   ],
   "source": [
    "health.isnull().sum()"
   ]
  },
  {
   "cell_type": "markdown",
   "id": "69b1f016",
   "metadata": {},
   "source": [
    "#### Observation:\n",
    "- There are 3 columns with missing data:\n",
    "    - Health Indicator           -11691\n",
    "    - Holding_Policy_Duration    -20251\n",
    "    - Holding_Policy_Type        -20251\n",
    "- now we'll check each column to treat missing data"
   ]
  },
  {
   "cell_type": "code",
   "execution_count": 98,
   "id": "eb838282",
   "metadata": {},
   "outputs": [
    {
     "data": {
      "text/plain": [
       "X1    13010\n",
       "X2    10332\n",
       "X3     6762\n",
       "X4     5743\n",
       "X5     1727\n",
       "X6     1280\n",
       "X7      196\n",
       "X8       78\n",
       "X9       63\n",
       "Name: Health Indicator, dtype: int64"
      ]
     },
     "execution_count": 98,
     "metadata": {},
     "output_type": "execute_result"
    }
   ],
   "source": [
    "health['Health Indicator'].value_counts()"
   ]
  },
  {
   "cell_type": "markdown",
   "id": "4c7a5bd0",
   "metadata": {},
   "source": [
    "- As we can see different categories under health indicator so will create another category for missing data"
   ]
  },
  {
   "cell_type": "code",
   "execution_count": 99,
   "id": "1415551f",
   "metadata": {},
   "outputs": [],
   "source": [
    "health['Health Indicator'] = health['Health Indicator'].fillna('X0')"
   ]
  },
  {
   "cell_type": "code",
   "execution_count": 100,
   "id": "4eb146cf",
   "metadata": {},
   "outputs": [
    {
     "data": {
      "text/plain": [
       "1.0     4499\n",
       "14+     4335\n",
       "2.0     4260\n",
       "3.0     3586\n",
       "4.0     2771\n",
       "5.0     2362\n",
       "6.0     1894\n",
       "7.0     1645\n",
       "8.0     1316\n",
       "9.0     1114\n",
       "10.0     813\n",
       "11.0     546\n",
       "12.0     513\n",
       "13.0     511\n",
       "14.0     466\n",
       "Name: Holding_Policy_Duration, dtype: int64"
      ]
     },
     "execution_count": 100,
     "metadata": {},
     "output_type": "execute_result"
    }
   ],
   "source": [
    "health['Holding_Policy_Duration'].value_counts()"
   ]
  },
  {
   "cell_type": "markdown",
   "id": "c37e0a7f",
   "metadata": {},
   "source": [
    "- Here is also different categories present in 'Holding_Policy_Duration' so will make another category for missing data\n",
    "- and also will replace 14+ as 15\n",
    "- change datatype from object to int"
   ]
  },
  {
   "cell_type": "code",
   "execution_count": 101,
   "id": "0d184dbb",
   "metadata": {},
   "outputs": [],
   "source": [
    "health['Holding_Policy_Duration'] = health['Holding_Policy_Duration'].fillna(0)"
   ]
  },
  {
   "cell_type": "code",
   "execution_count": 102,
   "id": "b638c906",
   "metadata": {},
   "outputs": [],
   "source": [
    "health['Holding_Policy_Duration'] = health['Holding_Policy_Duration'].replace('14+', 15)"
   ]
  },
  {
   "cell_type": "code",
   "execution_count": 103,
   "id": "1d882447",
   "metadata": {},
   "outputs": [],
   "source": [
    "health['Holding_Policy_Duration'] = health['Holding_Policy_Duration'].astype(float).astype(int)"
   ]
  },
  {
   "cell_type": "code",
   "execution_count": 104,
   "id": "f3564e90",
   "metadata": {},
   "outputs": [
    {
     "data": {
      "text/plain": [
       "3.0    13279\n",
       "1.0     8173\n",
       "2.0     5005\n",
       "4.0     4174\n",
       "Name: Holding_Policy_Type, dtype: int64"
      ]
     },
     "execution_count": 104,
     "metadata": {},
     "output_type": "execute_result"
    }
   ],
   "source": [
    "health['Holding_Policy_Type'].value_counts()"
   ]
  },
  {
   "cell_type": "markdown",
   "id": "d1b219af",
   "metadata": {},
   "source": [
    "- Again will create another category for missing data in 'Holding_Policy_Type'\n",
    "- change datatype from float to object"
   ]
  },
  {
   "cell_type": "code",
   "execution_count": 105,
   "id": "c2229cd0",
   "metadata": {},
   "outputs": [],
   "source": [
    "health['Holding_Policy_Type'] = health['Holding_Policy_Type'].fillna(0)"
   ]
  },
  {
   "cell_type": "code",
   "execution_count": 106,
   "id": "7dd892f8",
   "metadata": {},
   "outputs": [],
   "source": [
    "health['Holding_Policy_Type'] = health['Holding_Policy_Type'].astype(str)"
   ]
  },
  {
   "cell_type": "markdown",
   "id": "5daffce6",
   "metadata": {},
   "source": [
    "####  Check for duplicates"
   ]
  },
  {
   "cell_type": "code",
   "execution_count": 107,
   "id": "970cadc1",
   "metadata": {},
   "outputs": [
    {
     "data": {
      "text/plain": [
       "False"
      ]
     },
     "execution_count": 107,
     "metadata": {},
     "output_type": "execute_result"
    }
   ],
   "source": [
    "health.duplicated().any()"
   ]
  },
  {
   "cell_type": "markdown",
   "id": "8088a9e2",
   "metadata": {},
   "source": [
    "- No duplicates found"
   ]
  },
  {
   "cell_type": "markdown",
   "id": "b552b627",
   "metadata": {},
   "source": [
    "#### Let's explore each column for feature engineering and exploratory data analysis"
   ]
  },
  {
   "cell_type": "code",
   "execution_count": 108,
   "id": "2e0ded9d",
   "metadata": {},
   "outputs": [
    {
     "data": {
      "text/plain": [
       "Index(['ID', 'City_Code', 'Region_Code', 'Accomodation_Type',\n",
       "       'Reco_Insurance_Type', 'Upper_Age', 'Lower_Age', 'Is_Spouse',\n",
       "       'Health Indicator', 'Holding_Policy_Duration', 'Holding_Policy_Type',\n",
       "       'Reco_Policy_Cat', 'Reco_Policy_Premium', 'Response'],\n",
       "      dtype='object')"
      ]
     },
     "execution_count": 108,
     "metadata": {},
     "output_type": "execute_result"
    }
   ],
   "source": [
    "health.columns"
   ]
  },
  {
   "cell_type": "markdown",
   "id": "c7e57a62",
   "metadata": {},
   "source": [
    "- Will drop 'ID', 'Region_Code' as they are of no use"
   ]
  },
  {
   "cell_type": "markdown",
   "id": "672a370e",
   "metadata": {},
   "source": [
    "#### Response"
   ]
  },
  {
   "cell_type": "code",
   "execution_count": 109,
   "id": "f0f4c6cf",
   "metadata": {},
   "outputs": [],
   "source": [
    "# health['Response'] = health['Response'].astype(str)"
   ]
  },
  {
   "cell_type": "code",
   "execution_count": 110,
   "id": "c6374186",
   "metadata": {},
   "outputs": [
    {
     "data": {
      "text/plain": [
       "0    38673\n",
       "1    12209\n",
       "Name: Response, dtype: int64"
      ]
     },
     "execution_count": 110,
     "metadata": {},
     "output_type": "execute_result"
    }
   ],
   "source": [
    "health['Response'].value_counts()"
   ]
  },
  {
   "cell_type": "code",
   "execution_count": 111,
   "id": "7f65115f",
   "metadata": {},
   "outputs": [
    {
     "data": {
      "image/png": "[encoded data removed]",
      "text/plain": [
       "<Figure size 864x360 with 2 Axes>"
      ]
     },
     "metadata": {
      "needs_background": "light"
     },
     "output_type": "display_data"
    }
   ],
   "source": [
    "fig, ax = plt.subplots(1,2, figsize = (12,5))\n",
    "\n",
    "#count plot\n",
    "sns.countplot(x= 'Response' , data = health, palette = 'mako', ax=ax[0])\n",
    "ax[0].set_title('Response status' , size =20)\n",
    "ax[0].set_xlabel('Response', size = 16)\n",
    "ax[0].set_ylabel('frequency', size = 16)\n",
    "ax[0].set_xticks(ticks = [0, 1], labels = ['Not Interested', 'Interested'])\n",
    "\n",
    "#pie plot\n",
    "ax[1].pie(health['Response'].value_counts(), labels = ['Not Interested', 'Interested'], explode = (0, 0.1),\n",
    "         autopct='%2.1f%%', \n",
    "        shadow=True, startangle=150, colors=['#5F9EA0', '#FF7F50'])\n",
    "# ax[1].axis('equal')\n",
    "ax[1].set_title('Response Percentage', size = 20)\n",
    "\n",
    "plt.show()"
   ]
  },
  {
   "cell_type": "markdown",
   "id": "5723a1ab",
   "metadata": {},
   "source": [
    "#### Interpretation:\n",
    "- With bar chart and pie plot we can see that mojority of people are **not interested** with **76%** as compare to **interested** with only **24%**\n",
    "- will do further Analysis to see which features can contribute more in recommendation process to filter out intrested people.\n",
    "- because data is imbalanced so will synthesize the data"
   ]
  },
  {
   "cell_type": "markdown",
   "id": "dc3956bd",
   "metadata": {},
   "source": [
    "#### City Code"
   ]
  },
  {
   "cell_type": "code",
   "execution_count": 112,
   "id": "e04be095",
   "metadata": {},
   "outputs": [
    {
     "data": {
      "text/plain": [
       "<AxesSubplot:>"
      ]
     },
     "execution_count": 112,
     "metadata": {},
     "output_type": "execute_result"
    },
    {
     "data": {
      "image/png": "[encoded data removed]",
      "text/plain": [
       "<Figure size 1080x360 with 1 Axes>"
      ]
     },
     "metadata": {
      "needs_background": "light"
     },
     "output_type": "display_data"
    }
   ],
   "source": [
    "plt.figure(figsize = (15,5))\n",
    "health['City_Code'].value_counts().sort_values(ascending = False).plot.bar()"
   ]
  },
  {
   "cell_type": "code",
   "execution_count": 113,
   "id": "d64d997a",
   "metadata": {
    "scrolled": true
   },
   "outputs": [
    {
     "data": {
      "image/png": "[encoded data removed]",
      "text/plain": [
       "<Figure size 1440x432 with 1 Axes>"
      ]
     },
     "metadata": {
      "needs_background": "light"
     },
     "output_type": "display_data"
    }
   ],
   "source": [
    "fig, ax = plt.subplots(figsize=(20,6))\n",
    "pd.crosstab(health['City_Code'], health['Response'], normalize='index').sort_values(1, ascending=False).plot.bar(ax=ax, color=['teal', 'darkslategray'])\n",
    "plt.xticks(rotation='horizontal')\n",
    "plt.show()"
   ]
  },
  {
   "cell_type": "markdown",
   "id": "e45d7240",
   "metadata": {},
   "source": [
    "#### Interpretation:\n",
    "- The 'City_Code' column represents different city codes, with 'C1' being the most frequent city code (occurring 8,973 times) followed by 'C2' (7,747 times) and 'C3' (4,889 times).\n",
    "- Cities with higher proportions of positive responses are more likely to have positive outcomes compared to negative outcomes.\n",
    "    - For example, 'C30' has a positive response proportion of 31.03%, indicating that approximately 31.03% of the responses from that city code are positive.\n",
    "    - On the other hand, 'C31' has a relatively lower positive response proportion of 13.33%, suggesting that only 13.33% of the responses from that city code are positive."
   ]
  },
  {
   "cell_type": "markdown",
   "id": "0bc1ae17",
   "metadata": {},
   "source": [
    "#### Accomodation_Type and Response"
   ]
  },
  {
   "cell_type": "code",
   "execution_count": 114,
   "id": "fbb36c2b",
   "metadata": {},
   "outputs": [
    {
     "data": {
      "text/plain": [
       "Owned     27951\n",
       "Rented    22931\n",
       "Name: Accomodation_Type, dtype: int64"
      ]
     },
     "execution_count": 114,
     "metadata": {},
     "output_type": "execute_result"
    }
   ],
   "source": [
    "health['Accomodation_Type'].value_counts()"
   ]
  },
  {
   "cell_type": "code",
   "execution_count": 115,
   "id": "73b61a3e",
   "metadata": {},
   "outputs": [
    {
     "data": {
      "text/plain": [
       "<Figure size 720x360 with 0 Axes>"
      ]
     },
     "metadata": {},
     "output_type": "display_data"
    },
    {
     "data": {
      "image/png": "[encoded data removed]",
      "text/plain": [
       "<Figure size 432x288 with 1 Axes>"
      ]
     },
     "metadata": {
      "needs_background": "light"
     },
     "output_type": "display_data"
    }
   ],
   "source": [
    "plt.figure(figsize=(10,5))\n",
    "pd.crosstab(health['Accomodation_Type'], health['Response'], normalize='index').sort_values(1, ascending = False).plot.bar(color=['teal', 'darkslategray'])\n",
    "plt.show()"
   ]
  },
  {
   "cell_type": "markdown",
   "id": "8fe632ad",
   "metadata": {},
   "source": [
    "#### Interpretation:\n",
    "- The grouped bar chart of 'Accommodation_Type' and 'Response' highlights that the category of clients who own accommodation has a higher count of positive responses. This finding suggests that the clients who own their accommodation are more likely to show interest in the proposed health policy."
   ]
  },
  {
   "cell_type": "markdown",
   "id": "a72d58b4",
   "metadata": {},
   "source": [
    "#### Reco_Insurance_Type and Response"
   ]
  },
  {
   "cell_type": "code",
   "execution_count": 116,
   "id": "2a46c9ca",
   "metadata": {},
   "outputs": [
    {
     "data": {
      "text/plain": [
       "Individual    40536\n",
       "Joint         10346\n",
       "Name: Reco_Insurance_Type, dtype: int64"
      ]
     },
     "execution_count": 116,
     "metadata": {},
     "output_type": "execute_result"
    }
   ],
   "source": [
    "health['Reco_Insurance_Type'].value_counts()"
   ]
  },
  {
   "cell_type": "code",
   "execution_count": 117,
   "id": "599f9f21",
   "metadata": {},
   "outputs": [
    {
     "data": {
      "image/png": "[encoded data removed]",
      "text/plain": [
       "<Figure size 432x288 with 1 Axes>"
      ]
     },
     "metadata": {
      "needs_background": "light"
     },
     "output_type": "display_data"
    }
   ],
   "source": [
    "pd.crosstab(health['Reco_Insurance_Type'], health['Response'], normalize='index').sort_values(1, ascending = False).plot.bar(color=['teal', 'darkslategray'])\n",
    "plt.show()"
   ]
  },
  {
   "cell_type": "markdown",
   "id": "9d291f78",
   "metadata": {},
   "source": [
    "#### Interpretation:\n",
    "- The majority of customers in the dataset are interested in individual insurance policies."
   ]
  },
  {
   "cell_type": "markdown",
   "id": "f1ef6f40",
   "metadata": {},
   "source": [
    "#### Upper_Age and Lower_Age"
   ]
  },
  {
   "cell_type": "code",
   "execution_count": 118,
   "id": "cfeb8698",
   "metadata": {},
   "outputs": [],
   "source": [
    "health['Avg_Age'] = (health['Upper_Age'] + health['Lower_Age']) / 2"
   ]
  },
  {
   "cell_type": "markdown",
   "id": "66d1e977",
   "metadata": {},
   "source": [
    "To reflect the pricing aspect of insurance products based on applicants' age, we can create an average age feature. This feature replaces the original upper and lower age features, simplifying the dataset structure while capturing the age range. By calculating the average age and dropping the individual age columns, we retain essential age-related information aligned with industry practices."
   ]
  },
  {
   "cell_type": "code",
   "execution_count": 119,
   "id": "16656bf4",
   "metadata": {},
   "outputs": [
    {
     "data": {
      "text/plain": [
       "count    50882.000000\n",
       "mean        43.797571\n",
       "std         16.971142\n",
       "min         17.500000\n",
       "25%         28.000000\n",
       "50%         42.000000\n",
       "75%         58.000000\n",
       "max         75.000000\n",
       "Name: Avg_Age, dtype: float64"
      ]
     },
     "execution_count": 119,
     "metadata": {},
     "output_type": "execute_result"
    }
   ],
   "source": [
    "health['Avg_Age'].describe()"
   ]
  },
  {
   "cell_type": "code",
   "execution_count": 120,
   "id": "a4f57825",
   "metadata": {},
   "outputs": [
    {
     "data": {
      "text/plain": [
       "<AxesSubplot:xlabel='Avg_Age', ylabel='Count'>"
      ]
     },
     "execution_count": 120,
     "metadata": {},
     "output_type": "execute_result"
    },
    {
     "data": {
      "image/png": "[encoded data removed]",
      "text/plain": [
       "<Figure size 432x288 with 1 Axes>"
      ]
     },
     "metadata": {
      "needs_background": "light"
     },
     "output_type": "display_data"
    }
   ],
   "source": [
    "sns.histplot(health['Avg_Age'])"
   ]
  },
  {
   "cell_type": "code",
   "execution_count": 121,
   "id": "b2818fe1",
   "metadata": {},
   "outputs": [
    {
     "data": {
      "text/plain": [
       "Response\n",
       "0    43.794301\n",
       "1    43.807929\n",
       "Name: Avg_Age, dtype: float64"
      ]
     },
     "execution_count": 121,
     "metadata": {},
     "output_type": "execute_result"
    }
   ],
   "source": [
    "health.groupby(['Response'])['Avg_Age'].mean()"
   ]
  },
  {
   "cell_type": "markdown",
   "id": "a751a235",
   "metadata": {},
   "source": [
    "#### Interpretation:\n",
    "- the average age across the dataset is approximately 43.8.\n",
    "- the standard deviation is approximately 16.97, suggesting that the ages in the dataset have a moderate amount of variation around the mean.\n",
    "- the youngest recorded age in the dataset is 17.5.\n",
    "- 50% of the values in the dataset are less than or equal to 42\n",
    "- oldest recorded age in the dataset is 75.\n",
    "- The mean age for customers who responded with '0' (not interested in the health policy) is approximately 43.79, while the mean age for customers who responded with '1' (interested in the health policy) is approximately 43.81. This suggests that there is a small difference in the average age between the two response groups, with slightly higher average age for those interested in the health policy. However, the difference in average age is minimal, and other factors may have a stronger influence on the response to the health policy."
   ]
  },
  {
   "cell_type": "markdown",
   "id": "0d90cefd",
   "metadata": {},
   "source": [
    "#### Is_Spouse"
   ]
  },
  {
   "cell_type": "code",
   "execution_count": 122,
   "id": "16d1b916",
   "metadata": {},
   "outputs": [
    {
     "data": {
      "text/plain": [
       "No     0.83448\n",
       "Yes    0.16552\n",
       "Name: Is_Spouse, dtype: float64"
      ]
     },
     "execution_count": 122,
     "metadata": {},
     "output_type": "execute_result"
    }
   ],
   "source": [
    "health['Is_Spouse'].value_counts(normalize='index')"
   ]
  },
  {
   "cell_type": "code",
   "execution_count": 123,
   "id": "655335f3",
   "metadata": {},
   "outputs": [
    {
     "data": {
      "text/html": [
       "<div>\n",
       "<style scoped>\n",
       "    .dataframe tbody tr th:only-of-type {\n",
       "        vertical-align: middle;\n",
       "    }\n",
       "\n",
       "    .dataframe tbody tr th {\n",
       "        vertical-align: top;\n",
       "    }\n",
       "\n",
       "    .dataframe thead th {\n",
       "        text-align: right;\n",
       "    }\n",
       "</style>\n",
       "<table border=\"1\" class=\"dataframe\">\n",
       "  <thead>\n",
       "    <tr style=\"text-align: right;\">\n",
       "      <th>Response</th>\n",
       "      <th>0</th>\n",
       "      <th>1</th>\n",
       "    </tr>\n",
       "    <tr>\n",
       "      <th>Is_Spouse</th>\n",
       "      <th></th>\n",
       "      <th></th>\n",
       "    </tr>\n",
       "  </thead>\n",
       "  <tbody>\n",
       "    <tr>\n",
       "      <th>Yes</th>\n",
       "      <td>0.756352</td>\n",
       "      <td>0.243648</td>\n",
       "    </tr>\n",
       "    <tr>\n",
       "      <th>No</th>\n",
       "      <td>0.760787</td>\n",
       "      <td>0.239213</td>\n",
       "    </tr>\n",
       "  </tbody>\n",
       "</table>\n",
       "</div>"
      ],
      "text/plain": [
       "Response          0         1\n",
       "Is_Spouse                    \n",
       "Yes        0.756352  0.243648\n",
       "No         0.760787  0.239213"
      ]
     },
     "execution_count": 123,
     "metadata": {},
     "output_type": "execute_result"
    }
   ],
   "source": [
    "pd.crosstab(health['Is_Spouse'], health['Response'], normalize='index').sort_values(1, ascending = False)"
   ]
  },
  {
   "cell_type": "code",
   "execution_count": 124,
   "id": "7a0bcfd0",
   "metadata": {},
   "outputs": [
    {
     "data": {
      "image/png": "[encoded data removed]",
      "text/plain": [
       "<Figure size 432x288 with 1 Axes>"
      ]
     },
     "metadata": {
      "needs_background": "light"
     },
     "output_type": "display_data"
    }
   ],
   "source": [
    "pd.crosstab(health['Is_Spouse'], health['Response'], normalize='index').sort_values(1, ascending = False).plot.bar(color=['teal', 'darkslategray'])\n",
    "plt.show()"
   ]
  },
  {
   "cell_type": "markdown",
   "id": "9d3676ce",
   "metadata": {},
   "source": [
    "#### Interpretation:\n",
    "- From the value counts of the 'Is_Spouse' column, we can observe that the majority of customers do not have a spouse ('No').\n",
    "- Among customers who have a spouse ('Yes'), approximately 24.4% responded positively ('1'), while the remaining 75.6% responded negatively ('0').\n",
    "- Among customers who do not have a spouse ('No'), approximately 23.9% responded positively ('1'), while the majority, 76.1%, responded negatively ('0').\n",
    "- This information suggests that the presence or absence of a spouse may have a slight influence on the response to the health policy. Customers with a spouse tend to have a slightly higher proportion of positive responses compared to those without a spouse."
   ]
  },
  {
   "cell_type": "markdown",
   "id": "32f04f73",
   "metadata": {},
   "source": [
    "#### Health Indicator"
   ]
  },
  {
   "cell_type": "code",
   "execution_count": 125,
   "id": "7815639a",
   "metadata": {},
   "outputs": [
    {
     "data": {
      "text/plain": [
       "X1    0.255690\n",
       "X0    0.229767\n",
       "X2    0.203058\n",
       "X3    0.132896\n",
       "X4    0.112869\n",
       "X5    0.033941\n",
       "X6    0.025156\n",
       "X7    0.003852\n",
       "X8    0.001533\n",
       "X9    0.001238\n",
       "Name: Health Indicator, dtype: float64"
      ]
     },
     "execution_count": 125,
     "metadata": {},
     "output_type": "execute_result"
    }
   ],
   "source": [
    "health['Health Indicator'].value_counts(normalize='index').sort_values(ascending = False)"
   ]
  },
  {
   "cell_type": "code",
   "execution_count": 126,
   "id": "1b68d5ca",
   "metadata": {},
   "outputs": [
    {
     "data": {
      "text/html": [
       "<div>\n",
       "<style scoped>\n",
       "    .dataframe tbody tr th:only-of-type {\n",
       "        vertical-align: middle;\n",
       "    }\n",
       "\n",
       "    .dataframe tbody tr th {\n",
       "        vertical-align: top;\n",
       "    }\n",
       "\n",
       "    .dataframe thead th {\n",
       "        text-align: right;\n",
       "    }\n",
       "</style>\n",
       "<table border=\"1\" class=\"dataframe\">\n",
       "  <thead>\n",
       "    <tr style=\"text-align: right;\">\n",
       "      <th>Response</th>\n",
       "      <th>0</th>\n",
       "      <th>1</th>\n",
       "    </tr>\n",
       "    <tr>\n",
       "      <th>Health Indicator</th>\n",
       "      <th></th>\n",
       "      <th></th>\n",
       "    </tr>\n",
       "  </thead>\n",
       "  <tbody>\n",
       "    <tr>\n",
       "      <th>X7</th>\n",
       "      <td>0.683673</td>\n",
       "      <td>0.316327</td>\n",
       "    </tr>\n",
       "    <tr>\n",
       "      <th>X1</th>\n",
       "      <td>0.755880</td>\n",
       "      <td>0.244120</td>\n",
       "    </tr>\n",
       "    <tr>\n",
       "      <th>X4</th>\n",
       "      <td>0.756921</td>\n",
       "      <td>0.243079</td>\n",
       "    </tr>\n",
       "    <tr>\n",
       "      <th>X2</th>\n",
       "      <td>0.758904</td>\n",
       "      <td>0.241096</td>\n",
       "    </tr>\n",
       "    <tr>\n",
       "      <th>X6</th>\n",
       "      <td>0.760156</td>\n",
       "      <td>0.239844</td>\n",
       "    </tr>\n",
       "    <tr>\n",
       "      <th>X3</th>\n",
       "      <td>0.763531</td>\n",
       "      <td>0.236469</td>\n",
       "    </tr>\n",
       "    <tr>\n",
       "      <th>X5</th>\n",
       "      <td>0.763752</td>\n",
       "      <td>0.236248</td>\n",
       "    </tr>\n",
       "    <tr>\n",
       "      <th>X0</th>\n",
       "      <td>0.765803</td>\n",
       "      <td>0.234197</td>\n",
       "    </tr>\n",
       "    <tr>\n",
       "      <th>X8</th>\n",
       "      <td>0.769231</td>\n",
       "      <td>0.230769</td>\n",
       "    </tr>\n",
       "    <tr>\n",
       "      <th>X9</th>\n",
       "      <td>0.777778</td>\n",
       "      <td>0.222222</td>\n",
       "    </tr>\n",
       "  </tbody>\n",
       "</table>\n",
       "</div>"
      ],
      "text/plain": [
       "Response                 0         1\n",
       "Health Indicator                    \n",
       "X7                0.683673  0.316327\n",
       "X1                0.755880  0.244120\n",
       "X4                0.756921  0.243079\n",
       "X2                0.758904  0.241096\n",
       "X6                0.760156  0.239844\n",
       "X3                0.763531  0.236469\n",
       "X5                0.763752  0.236248\n",
       "X0                0.765803  0.234197\n",
       "X8                0.769231  0.230769\n",
       "X9                0.777778  0.222222"
      ]
     },
     "execution_count": 126,
     "metadata": {},
     "output_type": "execute_result"
    }
   ],
   "source": [
    "pd.crosstab(health['Health Indicator'], health['Response'], normalize='index').sort_values(1, ascending = False)"
   ]
  },
  {
   "cell_type": "code",
   "execution_count": 127,
   "id": "8b1ee85a",
   "metadata": {},
   "outputs": [
    {
     "data": {
      "image/png": "[encoded data removed]",
      "text/plain": [
       "<Figure size 1080x504 with 1 Axes>"
      ]
     },
     "metadata": {
      "needs_background": "light"
     },
     "output_type": "display_data"
    }
   ],
   "source": [
    "fig, ax = plt.subplots(figsize=(15,7))\n",
    "pd.crosstab(health['Health Indicator'], health['Response'], normalize='index').sort_values(1, ascending = False).plot.bar(ax=ax,color=['teal', 'darkslategray'])\n",
    "plt.show()"
   ]
  },
  {
   "cell_type": "markdown",
   "id": "1c91827e",
   "metadata": {},
   "source": [
    "#### Interpretation:\n",
    "- The most frequent health indicator is 'X1', accounting for approximately 25.6% of the total values.\n",
    "- The 'X0' category, is the second most frequent category, making up around 22.98% but will not consider as it represents missing data.\n",
    "- Other health indicators such as 'X2', 'X3', 'X4', 'X5', 'X6', 'X7', 'X8', and 'X9' have varying frequencies, with 'X2' being the third most frequent at 20.31%.\n",
    "\n",
    "- Among the different health indicators, 'X7' has the highest proportion of positive responses ('1') at approximately 31.6%.\n",
    "- The health indicators 'X1', 'X4', 'X2', 'X6', 'X3', 'X5', 'X0', 'X8', and 'X9' follow in descending order in terms of the proportion of positive responses.\n",
    "- 'X9' has the lowest proportion of positive responses at approximately 22.2%.\n",
    "\n",
    "- These findings suggest that the health indicator category may have some influence on the response to the health policy. Some categories show a higher proportion of positive responses, indicating that certain health indicators may be associated with a greater likelihood of interest in the health policy."
   ]
  },
  {
   "cell_type": "markdown",
   "id": "577e98fb",
   "metadata": {},
   "source": [
    "#### Holding_Policy_Duration"
   ]
  },
  {
   "cell_type": "code",
   "execution_count": 128,
   "id": "291a705d",
   "metadata": {},
   "outputs": [],
   "source": [
    "health['Holding_Policy_Duration'] = health['Holding_Policy_Duration'].astype(str)"
   ]
  },
  {
   "cell_type": "code",
   "execution_count": 129,
   "id": "d68bb895",
   "metadata": {},
   "outputs": [],
   "source": [
    "health['Long_Term_Cust'] = health['Holding_Policy_Duration'].apply(lambda x: 'Yes' if x == 15 else 'No')"
   ]
  },
  {
   "cell_type": "markdown",
   "id": "584d7d2d",
   "metadata": {},
   "source": [
    "- creating new column 'Long_Term_Cust' from 'Holding_Policy_Duration' to segregate customers as they are with company from long term or not."
   ]
  },
  {
   "cell_type": "code",
   "execution_count": 130,
   "id": "f5351ac5",
   "metadata": {},
   "outputs": [
    {
     "data": {
      "text/plain": [
       "0     20251\n",
       "1      4499\n",
       "15     4335\n",
       "2      4260\n",
       "3      3586\n",
       "4      2771\n",
       "5      2362\n",
       "6      1894\n",
       "7      1645\n",
       "8      1316\n",
       "9      1114\n",
       "10      813\n",
       "11      546\n",
       "12      513\n",
       "13      511\n",
       "14      466\n",
       "Name: Holding_Policy_Duration, dtype: int64"
      ]
     },
     "execution_count": 130,
     "metadata": {},
     "output_type": "execute_result"
    }
   ],
   "source": [
    "health['Holding_Policy_Duration'].value_counts().sort_values(ascending = False)"
   ]
  },
  {
   "cell_type": "code",
   "execution_count": 131,
   "id": "afb6cfe4",
   "metadata": {},
   "outputs": [
    {
     "data": {
      "text/html": [
       "<div>\n",
       "<style scoped>\n",
       "    .dataframe tbody tr th:only-of-type {\n",
       "        vertical-align: middle;\n",
       "    }\n",
       "\n",
       "    .dataframe tbody tr th {\n",
       "        vertical-align: top;\n",
       "    }\n",
       "\n",
       "    .dataframe thead th {\n",
       "        text-align: right;\n",
       "    }\n",
       "</style>\n",
       "<table border=\"1\" class=\"dataframe\">\n",
       "  <thead>\n",
       "    <tr style=\"text-align: right;\">\n",
       "      <th>Response</th>\n",
       "      <th>0</th>\n",
       "      <th>1</th>\n",
       "    </tr>\n",
       "    <tr>\n",
       "      <th>Holding_Policy_Duration</th>\n",
       "      <th></th>\n",
       "      <th></th>\n",
       "    </tr>\n",
       "  </thead>\n",
       "  <tbody>\n",
       "    <tr>\n",
       "      <th>10</th>\n",
       "      <td>0.726937</td>\n",
       "      <td>0.273063</td>\n",
       "    </tr>\n",
       "    <tr>\n",
       "      <th>13</th>\n",
       "      <td>0.729941</td>\n",
       "      <td>0.270059</td>\n",
       "    </tr>\n",
       "    <tr>\n",
       "      <th>7</th>\n",
       "      <td>0.742857</td>\n",
       "      <td>0.257143</td>\n",
       "    </tr>\n",
       "    <tr>\n",
       "      <th>8</th>\n",
       "      <td>0.743161</td>\n",
       "      <td>0.256839</td>\n",
       "    </tr>\n",
       "    <tr>\n",
       "      <th>12</th>\n",
       "      <td>0.746589</td>\n",
       "      <td>0.253411</td>\n",
       "    </tr>\n",
       "    <tr>\n",
       "      <th>11</th>\n",
       "      <td>0.749084</td>\n",
       "      <td>0.250916</td>\n",
       "    </tr>\n",
       "    <tr>\n",
       "      <th>15</th>\n",
       "      <td>0.749250</td>\n",
       "      <td>0.250750</td>\n",
       "    </tr>\n",
       "    <tr>\n",
       "      <th>14</th>\n",
       "      <td>0.753219</td>\n",
       "      <td>0.246781</td>\n",
       "    </tr>\n",
       "    <tr>\n",
       "      <th>4</th>\n",
       "      <td>0.759293</td>\n",
       "      <td>0.240707</td>\n",
       "    </tr>\n",
       "    <tr>\n",
       "      <th>0</th>\n",
       "      <td>0.761049</td>\n",
       "      <td>0.238951</td>\n",
       "    </tr>\n",
       "    <tr>\n",
       "      <th>5</th>\n",
       "      <td>0.761643</td>\n",
       "      <td>0.238357</td>\n",
       "    </tr>\n",
       "    <tr>\n",
       "      <th>9</th>\n",
       "      <td>0.762118</td>\n",
       "      <td>0.237882</td>\n",
       "    </tr>\n",
       "    <tr>\n",
       "      <th>2</th>\n",
       "      <td>0.762676</td>\n",
       "      <td>0.237324</td>\n",
       "    </tr>\n",
       "    <tr>\n",
       "      <th>6</th>\n",
       "      <td>0.765048</td>\n",
       "      <td>0.234952</td>\n",
       "    </tr>\n",
       "    <tr>\n",
       "      <th>3</th>\n",
       "      <td>0.767987</td>\n",
       "      <td>0.232013</td>\n",
       "    </tr>\n",
       "    <tr>\n",
       "      <th>1</th>\n",
       "      <td>0.778395</td>\n",
       "      <td>0.221605</td>\n",
       "    </tr>\n",
       "  </tbody>\n",
       "</table>\n",
       "</div>"
      ],
      "text/plain": [
       "Response                        0         1\n",
       "Holding_Policy_Duration                    \n",
       "10                       0.726937  0.273063\n",
       "13                       0.729941  0.270059\n",
       "7                        0.742857  0.257143\n",
       "8                        0.743161  0.256839\n",
       "12                       0.746589  0.253411\n",
       "11                       0.749084  0.250916\n",
       "15                       0.749250  0.250750\n",
       "14                       0.753219  0.246781\n",
       "4                        0.759293  0.240707\n",
       "0                        0.761049  0.238951\n",
       "5                        0.761643  0.238357\n",
       "9                        0.762118  0.237882\n",
       "2                        0.762676  0.237324\n",
       "6                        0.765048  0.234952\n",
       "3                        0.767987  0.232013\n",
       "1                        0.778395  0.221605"
      ]
     },
     "execution_count": 131,
     "metadata": {},
     "output_type": "execute_result"
    }
   ],
   "source": [
    "pd.crosstab(health['Holding_Policy_Duration'], health['Response'], normalize='index').sort_values(1, ascending=False)"
   ]
  },
  {
   "cell_type": "code",
   "execution_count": 132,
   "id": "557f0eb6",
   "metadata": {},
   "outputs": [
    {
     "data": {
      "image/png": "[encoded data removed]",
      "text/plain": [
       "<Figure size 1080x504 with 1 Axes>"
      ]
     },
     "metadata": {
      "needs_background": "light"
     },
     "output_type": "display_data"
    }
   ],
   "source": [
    "fig, ax = plt.subplots(figsize=(15,7))\n",
    "pd.crosstab(health['Holding_Policy_Duration'], health['Response'], normalize='index').sort_values(1, ascending=False).plot.bar(ax=ax, color=['teal', 'darkslategray'])\n",
    "plt.show()"
   ]
  },
  {
   "cell_type": "markdown",
   "id": "4579e608",
   "metadata": {},
   "source": [
    "#### Interpretation:\n",
    "- The most common holding policy duration is '0', with a count of 20,251 but will not consider as it represents missing data.\n",
    "- The '1' category, is the second most frequent category, with a count of 4499.\n",
    "- Other durations such as '15', '2', '3', '4', '5', '6', '7', '8', '9', '10', '11', '12', '13', and '14' have varying frequencies, with '15' having the third-highest count of 4,499.\n",
    "- Among the different policy durations, '10' has the highest proportion of positive responses ('1') at approximately 27.3%.\n",
    "- The policy durations '13', '7', '8', '12', '11', '15', '14', '4', '0', '5', '9', '2', '6', '3', and '1' follow in descending order in terms of the proportion of positive responses.\n",
    "- '1' has the lowest proportion of positive responses at approximately 22.2%.\n",
    "- These findings suggest that the duration of the holding policy may have some influence on the response to the health policy. Certain durations appear to be associated with a higher proportion of positive responses, indicating that policyholders with those durations may be more interested in the health policy."
   ]
  },
  {
   "cell_type": "code",
   "execution_count": 133,
   "id": "ba14db51",
   "metadata": {},
   "outputs": [
    {
     "data": {
      "text/plain": [
       "No    50882\n",
       "Name: Long_Term_Cust, dtype: int64"
      ]
     },
     "execution_count": 133,
     "metadata": {},
     "output_type": "execute_result"
    }
   ],
   "source": [
    "health['Long_Term_Cust'].value_counts()"
   ]
  },
  {
   "cell_type": "code",
   "execution_count": 134,
   "id": "8938c996",
   "metadata": {},
   "outputs": [
    {
     "data": {
      "text/html": [
       "<div>\n",
       "<style scoped>\n",
       "    .dataframe tbody tr th:only-of-type {\n",
       "        vertical-align: middle;\n",
       "    }\n",
       "\n",
       "    .dataframe tbody tr th {\n",
       "        vertical-align: top;\n",
       "    }\n",
       "\n",
       "    .dataframe thead th {\n",
       "        text-align: right;\n",
       "    }\n",
       "</style>\n",
       "<table border=\"1\" class=\"dataframe\">\n",
       "  <thead>\n",
       "    <tr style=\"text-align: right;\">\n",
       "      <th>Response</th>\n",
       "      <th>0</th>\n",
       "      <th>1</th>\n",
       "    </tr>\n",
       "    <tr>\n",
       "      <th>Long_Term_Cust</th>\n",
       "      <th></th>\n",
       "      <th></th>\n",
       "    </tr>\n",
       "  </thead>\n",
       "  <tbody>\n",
       "    <tr>\n",
       "      <th>No</th>\n",
       "      <td>0.760053</td>\n",
       "      <td>0.239947</td>\n",
       "    </tr>\n",
       "  </tbody>\n",
       "</table>\n",
       "</div>"
      ],
      "text/plain": [
       "Response               0         1\n",
       "Long_Term_Cust                    \n",
       "No              0.760053  0.239947"
      ]
     },
     "execution_count": 134,
     "metadata": {},
     "output_type": "execute_result"
    }
   ],
   "source": [
    "pd.crosstab(health['Long_Term_Cust'], health['Response'], normalize='index').sort_values(1, ascending=False)"
   ]
  },
  {
   "cell_type": "code",
   "execution_count": 135,
   "id": "ed0f6df9",
   "metadata": {},
   "outputs": [
    {
     "data": {
      "image/png": "[encoded data removed]",
      "text/plain": [
       "<Figure size 504x288 with 1 Axes>"
      ]
     },
     "metadata": {
      "needs_background": "light"
     },
     "output_type": "display_data"
    }
   ],
   "source": [
    "fig, ax = plt.subplots(figsize=(7,4))\n",
    "pd.crosstab(health['Long_Term_Cust'], health['Response'], normalize='index').sort_values(1, ascending=False).plot.bar(ax=ax, color=['teal', 'darkslategray'])\n",
    "plt.show()"
   ]
  },
  {
   "cell_type": "markdown",
   "id": "83960255",
   "metadata": {},
   "source": [
    "#### Interpretation:\n",
    "- The majority of customers, 46,547 in total, are classified as \"No\" for long-term customers.\n",
    "- There are 4,335 customers classified as \"Yes\" for long-term customers.\n",
    "- Among the long-term customers, approximately 25.1% responded positively ('1') to the health policy proposal.\n",
    "- Among the non-long-term customers, approximately 23.9% responded positively to the health policy proposal\n",
    "- In short, the analysis indicates that customers classified as long-term customers have a slightly higher proportion of positive responses to the health policy proposal compared to non-long-term customers"
   ]
  },
  {
   "cell_type": "markdown",
   "id": "b44ac21d",
   "metadata": {},
   "source": [
    "#### Holding_Policy_Type"
   ]
  },
  {
   "cell_type": "code",
   "execution_count": 136,
   "id": "a7aa11ad",
   "metadata": {},
   "outputs": [
    {
     "data": {
      "text/plain": [
       "0.0    20251\n",
       "3.0    13279\n",
       "1.0     8173\n",
       "2.0     5005\n",
       "4.0     4174\n",
       "Name: Holding_Policy_Type, dtype: int64"
      ]
     },
     "execution_count": 136,
     "metadata": {},
     "output_type": "execute_result"
    }
   ],
   "source": [
    "health['Holding_Policy_Type'].value_counts().sort_values(ascending = False)"
   ]
  },
  {
   "cell_type": "code",
   "execution_count": 137,
   "id": "08942d66",
   "metadata": {},
   "outputs": [
    {
     "data": {
      "text/html": [
       "<div>\n",
       "<style scoped>\n",
       "    .dataframe tbody tr th:only-of-type {\n",
       "        vertical-align: middle;\n",
       "    }\n",
       "\n",
       "    .dataframe tbody tr th {\n",
       "        vertical-align: top;\n",
       "    }\n",
       "\n",
       "    .dataframe thead th {\n",
       "        text-align: right;\n",
       "    }\n",
       "</style>\n",
       "<table border=\"1\" class=\"dataframe\">\n",
       "  <thead>\n",
       "    <tr style=\"text-align: right;\">\n",
       "      <th>Response</th>\n",
       "      <th>0</th>\n",
       "      <th>1</th>\n",
       "    </tr>\n",
       "    <tr>\n",
       "      <th>Holding_Policy_Type</th>\n",
       "      <th></th>\n",
       "      <th></th>\n",
       "    </tr>\n",
       "  </thead>\n",
       "  <tbody>\n",
       "    <tr>\n",
       "      <th>4.0</th>\n",
       "      <td>0.751797</td>\n",
       "      <td>0.248203</td>\n",
       "    </tr>\n",
       "    <tr>\n",
       "      <th>3.0</th>\n",
       "      <td>0.757738</td>\n",
       "      <td>0.242262</td>\n",
       "    </tr>\n",
       "    <tr>\n",
       "      <th>0.0</th>\n",
       "      <td>0.761049</td>\n",
       "      <td>0.238951</td>\n",
       "    </tr>\n",
       "    <tr>\n",
       "      <th>2.0</th>\n",
       "      <td>0.762238</td>\n",
       "      <td>0.237762</td>\n",
       "    </tr>\n",
       "    <tr>\n",
       "      <th>1.0</th>\n",
       "      <td>0.764224</td>\n",
       "      <td>0.235776</td>\n",
       "    </tr>\n",
       "  </tbody>\n",
       "</table>\n",
       "</div>"
      ],
      "text/plain": [
       "Response                    0         1\n",
       "Holding_Policy_Type                    \n",
       "4.0                  0.751797  0.248203\n",
       "3.0                  0.757738  0.242262\n",
       "0.0                  0.761049  0.238951\n",
       "2.0                  0.762238  0.237762\n",
       "1.0                  0.764224  0.235776"
      ]
     },
     "execution_count": 137,
     "metadata": {},
     "output_type": "execute_result"
    }
   ],
   "source": [
    "pd.crosstab(health['Holding_Policy_Type'], health['Response'], normalize='index').sort_values(1, ascending=False)"
   ]
  },
  {
   "cell_type": "code",
   "execution_count": 138,
   "id": "4e7b8145",
   "metadata": {
    "scrolled": true
   },
   "outputs": [
    {
     "data": {
      "image/png": "[encoded data removed]",
      "text/plain": [
       "<Figure size 504x288 with 1 Axes>"
      ]
     },
     "metadata": {
      "needs_background": "light"
     },
     "output_type": "display_data"
    }
   ],
   "source": [
    "fig, ax = plt.subplots(figsize=(7,4))\n",
    "pd.crosstab(health['Long_Term_Cust'], health['Response'], normalize='index').sort_values(1, ascending=False).plot.bar(ax=ax, color=['teal', 'darkslategray'])\n",
    "plt.show()"
   ]
  },
  {
   "cell_type": "markdown",
   "id": "8154b60f",
   "metadata": {},
   "source": [
    "#### Interpretation:\n",
    "- The most common holding policy type is '0.0', with a count of 20,251 but will not consider as it represents missing data.\n",
    "- The '3' category, is the second most frequent category, with a count of 13279.\n",
    "- Other policy types such as '1.0', '2.0', and '4.0' have varying frequencies.\n",
    "\n",
    "- Among the different policy types, '4.0' has the highest proportion of positive responses ('1') at approximately 24.8%.\n",
    "- '1.0' has the lowest proportion of positive responses at approximately 23.6%.\n",
    "- These findings suggest that the type of holding policy may have some influence on the response to the health policy."
   ]
  },
  {
   "cell_type": "markdown",
   "id": "8f829fda",
   "metadata": {},
   "source": [
    "#### Reco_Policy_Cat"
   ]
  },
  {
   "cell_type": "code",
   "execution_count": 139,
   "id": "9689601c",
   "metadata": {},
   "outputs": [],
   "source": [
    "health['Reco_Policy_Cat'] = health['Reco_Policy_Cat'].astype(str)"
   ]
  },
  {
   "cell_type": "code",
   "execution_count": 140,
   "id": "94cdff2e",
   "metadata": {},
   "outputs": [
    {
     "data": {
      "text/plain": [
       "22    6602\n",
       "18    5553\n",
       "21    5027\n",
       "16    4084\n",
       "17    3756\n",
       "19    3708\n",
       "20    3177\n",
       "12    2168\n",
       "1     1967\n",
       "2     1917\n",
       "14    1742\n",
       "13    1684\n",
       "15    1615\n",
       "3     1059\n",
       "4     1015\n",
       "5     1007\n",
       "6      851\n",
       "7      834\n",
       "9      789\n",
       "11     781\n",
       "8      776\n",
       "10     770\n",
       "Name: Reco_Policy_Cat, dtype: int64"
      ]
     },
     "execution_count": 140,
     "metadata": {},
     "output_type": "execute_result"
    }
   ],
   "source": [
    "health['Reco_Policy_Cat'].value_counts().sort_values(ascending = False)"
   ]
  },
  {
   "cell_type": "code",
   "execution_count": 141,
   "id": "2611a1c1",
   "metadata": {},
   "outputs": [
    {
     "data": {
      "text/html": [
       "<div>\n",
       "<style scoped>\n",
       "    .dataframe tbody tr th:only-of-type {\n",
       "        vertical-align: middle;\n",
       "    }\n",
       "\n",
       "    .dataframe tbody tr th {\n",
       "        vertical-align: top;\n",
       "    }\n",
       "\n",
       "    .dataframe thead th {\n",
       "        text-align: right;\n",
       "    }\n",
       "</style>\n",
       "<table border=\"1\" class=\"dataframe\">\n",
       "  <thead>\n",
       "    <tr style=\"text-align: right;\">\n",
       "      <th>Response</th>\n",
       "      <th>0</th>\n",
       "      <th>1</th>\n",
       "    </tr>\n",
       "    <tr>\n",
       "      <th>Reco_Policy_Cat</th>\n",
       "      <th></th>\n",
       "      <th></th>\n",
       "    </tr>\n",
       "  </thead>\n",
       "  <tbody>\n",
       "    <tr>\n",
       "      <th>15</th>\n",
       "      <td>0.534365</td>\n",
       "      <td>0.465635</td>\n",
       "    </tr>\n",
       "    <tr>\n",
       "      <th>22</th>\n",
       "      <td>0.671615</td>\n",
       "      <td>0.328385</td>\n",
       "    </tr>\n",
       "    <tr>\n",
       "      <th>12</th>\n",
       "      <td>0.684963</td>\n",
       "      <td>0.315037</td>\n",
       "    </tr>\n",
       "    <tr>\n",
       "      <th>17</th>\n",
       "      <td>0.701544</td>\n",
       "      <td>0.298456</td>\n",
       "    </tr>\n",
       "    <tr>\n",
       "      <th>5</th>\n",
       "      <td>0.709037</td>\n",
       "      <td>0.290963</td>\n",
       "    </tr>\n",
       "    <tr>\n",
       "      <th>19</th>\n",
       "      <td>0.723031</td>\n",
       "      <td>0.276969</td>\n",
       "    </tr>\n",
       "    <tr>\n",
       "      <th>8</th>\n",
       "      <td>0.730670</td>\n",
       "      <td>0.269330</td>\n",
       "    </tr>\n",
       "    <tr>\n",
       "      <th>20</th>\n",
       "      <td>0.745042</td>\n",
       "      <td>0.254958</td>\n",
       "    </tr>\n",
       "    <tr>\n",
       "      <th>14</th>\n",
       "      <td>0.756028</td>\n",
       "      <td>0.243972</td>\n",
       "    </tr>\n",
       "    <tr>\n",
       "      <th>16</th>\n",
       "      <td>0.776445</td>\n",
       "      <td>0.223555</td>\n",
       "    </tr>\n",
       "    <tr>\n",
       "      <th>18</th>\n",
       "      <td>0.779399</td>\n",
       "      <td>0.220601</td>\n",
       "    </tr>\n",
       "    <tr>\n",
       "      <th>13</th>\n",
       "      <td>0.781473</td>\n",
       "      <td>0.218527</td>\n",
       "    </tr>\n",
       "    <tr>\n",
       "      <th>21</th>\n",
       "      <td>0.806246</td>\n",
       "      <td>0.193754</td>\n",
       "    </tr>\n",
       "    <tr>\n",
       "      <th>3</th>\n",
       "      <td>0.806421</td>\n",
       "      <td>0.193579</td>\n",
       "    </tr>\n",
       "    <tr>\n",
       "      <th>7</th>\n",
       "      <td>0.814149</td>\n",
       "      <td>0.185851</td>\n",
       "    </tr>\n",
       "    <tr>\n",
       "      <th>10</th>\n",
       "      <td>0.823377</td>\n",
       "      <td>0.176623</td>\n",
       "    </tr>\n",
       "    <tr>\n",
       "      <th>6</th>\n",
       "      <td>0.827262</td>\n",
       "      <td>0.172738</td>\n",
       "    </tr>\n",
       "    <tr>\n",
       "      <th>11</th>\n",
       "      <td>0.833547</td>\n",
       "      <td>0.166453</td>\n",
       "    </tr>\n",
       "    <tr>\n",
       "      <th>9</th>\n",
       "      <td>0.833967</td>\n",
       "      <td>0.166033</td>\n",
       "    </tr>\n",
       "    <tr>\n",
       "      <th>2</th>\n",
       "      <td>0.867501</td>\n",
       "      <td>0.132499</td>\n",
       "    </tr>\n",
       "    <tr>\n",
       "      <th>4</th>\n",
       "      <td>0.926108</td>\n",
       "      <td>0.073892</td>\n",
       "    </tr>\n",
       "    <tr>\n",
       "      <th>1</th>\n",
       "      <td>0.995933</td>\n",
       "      <td>0.004067</td>\n",
       "    </tr>\n",
       "  </tbody>\n",
       "</table>\n",
       "</div>"
      ],
      "text/plain": [
       "Response                0         1\n",
       "Reco_Policy_Cat                    \n",
       "15               0.534365  0.465635\n",
       "22               0.671615  0.328385\n",
       "12               0.684963  0.315037\n",
       "17               0.701544  0.298456\n",
       "5                0.709037  0.290963\n",
       "19               0.723031  0.276969\n",
       "8                0.730670  0.269330\n",
       "20               0.745042  0.254958\n",
       "14               0.756028  0.243972\n",
       "16               0.776445  0.223555\n",
       "18               0.779399  0.220601\n",
       "13               0.781473  0.218527\n",
       "21               0.806246  0.193754\n",
       "3                0.806421  0.193579\n",
       "7                0.814149  0.185851\n",
       "10               0.823377  0.176623\n",
       "6                0.827262  0.172738\n",
       "11               0.833547  0.166453\n",
       "9                0.833967  0.166033\n",
       "2                0.867501  0.132499\n",
       "4                0.926108  0.073892\n",
       "1                0.995933  0.004067"
      ]
     },
     "execution_count": 141,
     "metadata": {},
     "output_type": "execute_result"
    }
   ],
   "source": [
    "pd.crosstab(health['Reco_Policy_Cat'], health['Response'], normalize='index').sort_values(1, ascending=False)"
   ]
  },
  {
   "cell_type": "code",
   "execution_count": 142,
   "id": "0b8f7326",
   "metadata": {},
   "outputs": [
    {
     "data": {
      "image/png": "[encoded data removed]",
      "text/plain": [
       "<Figure size 1080x504 with 1 Axes>"
      ]
     },
     "metadata": {
      "needs_background": "light"
     },
     "output_type": "display_data"
    }
   ],
   "source": [
    "fig, ax = plt.subplots(figsize=(15,7))\n",
    "pd.crosstab(health['Reco_Policy_Cat'], health['Response'], normalize='index').sort_values(1, ascending=False).plot.bar(ax=ax, color=['teal', 'darkslategray'])\n",
    "plt.show()"
   ]
  },
  {
   "cell_type": "markdown",
   "id": "c7a10b30",
   "metadata": {},
   "source": [
    "#### Interpretation:\n",
    "- The most common policy category is '22', with a count of 6,602.\n",
    "- Other policy categories such as '18', '21', '16', '17', '19', '20', and so on, have varying frequencies.\n",
    "- Among the different policy categories, category '15' has the highest proportion of positive responses ('1') at approximately 46.6%.\n",
    "- Category '22' has the second-highest count but a relatively lower proportion of positive responses at approximately 32.8%.\n",
    "- These findings suggest that the recommended policy category may have an influence on the response to the health policy. Certain policy categories, such as '15', show a higher proportion of positive responses, indicating that customers recommended those categories may be more interested in the health policy."
   ]
  },
  {
   "cell_type": "markdown",
   "id": "ff906409",
   "metadata": {},
   "source": [
    "#### Reco_Policy_Premium"
   ]
  },
  {
   "cell_type": "code",
   "execution_count": 143,
   "id": "d77d8675",
   "metadata": {},
   "outputs": [
    {
     "data": {
      "text/plain": [
       "count    50882.000000\n",
       "mean     14183.950069\n",
       "std       6590.074873\n",
       "min       2280.000000\n",
       "25%       9248.000000\n",
       "50%      13178.000000\n",
       "75%      18096.000000\n",
       "max      43350.400000\n",
       "Name: Reco_Policy_Premium, dtype: float64"
      ]
     },
     "execution_count": 143,
     "metadata": {},
     "output_type": "execute_result"
    }
   ],
   "source": [
    "health['Reco_Policy_Premium'].describe()"
   ]
  },
  {
   "cell_type": "code",
   "execution_count": 144,
   "id": "363d1cca",
   "metadata": {},
   "outputs": [
    {
     "data": {
      "text/plain": [
       "<AxesSubplot:xlabel='Reco_Policy_Premium'>"
      ]
     },
     "execution_count": 144,
     "metadata": {},
     "output_type": "execute_result"
    },
    {
     "data": {
      "image/png": "[encoded data removed]",
      "text/plain": [
       "<Figure size 864x360 with 2 Axes>"
      ]
     },
     "metadata": {
      "needs_background": "light"
     },
     "output_type": "display_data"
    }
   ],
   "source": [
    "fig, ax = plt.subplots(1,2, figsize = (12,5))\n",
    "plt.subplot(1,2,1)\n",
    "sns.histplot(health['Reco_Policy_Premium'])\n",
    "plt.subplot(1,2,2)\n",
    "sns.boxplot(health['Reco_Policy_Premium'])"
   ]
  },
  {
   "cell_type": "code",
   "execution_count": 145,
   "id": "063e3424",
   "metadata": {},
   "outputs": [
    {
     "data": {
      "text/plain": [
       "Response\n",
       "0    14154.537827\n",
       "1    14277.115734\n",
       "Name: Reco_Policy_Premium, dtype: float64"
      ]
     },
     "execution_count": 145,
     "metadata": {},
     "output_type": "execute_result"
    }
   ],
   "source": [
    "health.groupby(['Response'])['Reco_Policy_Premium'].mean()"
   ]
  },
  {
   "cell_type": "markdown",
   "id": "95e39717",
   "metadata": {},
   "source": [
    "#### Interpretation:\n",
    "- Average Reco_Policy_Premium value is 14,183.95\n",
    "- minimum premium amount is 2,280.\n",
    "- maximum premium amount is 43,350.4.\n",
    "- For customers with a 'Response' value of 0, the average 'Reco_Policy_Premium' is approximately 14,154.54. This suggests that customers who did not respond favorably may have slightly lower average premiums.\n",
    "- For customers with a 'Response' value of 1, the average 'Reco_Policy_Premium' is approximately 14,277.12. This indicates that customers who responded favorably may have slightly higher average premiums"
   ]
  },
  {
   "cell_type": "markdown",
   "id": "b65a7977",
   "metadata": {},
   "source": [
    "- histplot shows skewness in the data and boxplot helps in identifying ouliers so, one approach to handle them is by applying binning.\n",
    "- Binning involves grouping the continuous data into distinct categories or bins. This helps in simplifying the data distribution and facilitates better analysis and visualization, enabling the detection and handling of outliers."
   ]
  },
  {
   "cell_type": "code",
   "execution_count": 146,
   "id": "6d4da702",
   "metadata": {},
   "outputs": [],
   "source": [
    "health['Premium_bins'] = health['Reco_Policy_Premium'].apply(lambda x: '0-9999' if x < 10000\n",
    "                                                     else '10000-14999' if x < 15000 \n",
    "                                                     else '15000-19999' if x < 20000 \n",
    "                                                     else '20000-24999' if x < 25000 \n",
    "                                                     else '25000-29999' if x < 30000 \n",
    "                                                     else '30000+')"
   ]
  },
  {
   "cell_type": "code",
   "execution_count": 147,
   "id": "2afcd1d3",
   "metadata": {},
   "outputs": [
    {
     "data": {
      "text/plain": [
       "0-9999         15280\n",
       "10000-14999    15271\n",
       "15000-19999    11153\n",
       "20000-24999     5521\n",
       "25000-29999     2426\n",
       "30000+          1231\n",
       "Name: Premium_bins, dtype: int64"
      ]
     },
     "execution_count": 147,
     "metadata": {},
     "output_type": "execute_result"
    }
   ],
   "source": [
    "health['Premium_bins'].value_counts().sort_values(ascending = False)"
   ]
  },
  {
   "cell_type": "code",
   "execution_count": 148,
   "id": "39b20cbb",
   "metadata": {},
   "outputs": [
    {
     "data": {
      "text/html": [
       "<div>\n",
       "<style scoped>\n",
       "    .dataframe tbody tr th:only-of-type {\n",
       "        vertical-align: middle;\n",
       "    }\n",
       "\n",
       "    .dataframe tbody tr th {\n",
       "        vertical-align: top;\n",
       "    }\n",
       "\n",
       "    .dataframe thead th {\n",
       "        text-align: right;\n",
       "    }\n",
       "</style>\n",
       "<table border=\"1\" class=\"dataframe\">\n",
       "  <thead>\n",
       "    <tr style=\"text-align: right;\">\n",
       "      <th>Response</th>\n",
       "      <th>0</th>\n",
       "      <th>1</th>\n",
       "    </tr>\n",
       "    <tr>\n",
       "      <th>Premium_bins</th>\n",
       "      <th></th>\n",
       "      <th></th>\n",
       "    </tr>\n",
       "  </thead>\n",
       "  <tbody>\n",
       "    <tr>\n",
       "      <th>25000-29999</th>\n",
       "      <td>0.751855</td>\n",
       "      <td>0.248145</td>\n",
       "    </tr>\n",
       "    <tr>\n",
       "      <th>15000-19999</th>\n",
       "      <td>0.754954</td>\n",
       "      <td>0.245046</td>\n",
       "    </tr>\n",
       "    <tr>\n",
       "      <th>30000+</th>\n",
       "      <td>0.756296</td>\n",
       "      <td>0.243704</td>\n",
       "    </tr>\n",
       "    <tr>\n",
       "      <th>20000-24999</th>\n",
       "      <td>0.758558</td>\n",
       "      <td>0.241442</td>\n",
       "    </tr>\n",
       "    <tr>\n",
       "      <th>0-9999</th>\n",
       "      <td>0.761649</td>\n",
       "      <td>0.238351</td>\n",
       "    </tr>\n",
       "    <tr>\n",
       "      <th>10000-14999</th>\n",
       "      <td>0.764325</td>\n",
       "      <td>0.235675</td>\n",
       "    </tr>\n",
       "  </tbody>\n",
       "</table>\n",
       "</div>"
      ],
      "text/plain": [
       "Response             0         1\n",
       "Premium_bins                    \n",
       "25000-29999   0.751855  0.248145\n",
       "15000-19999   0.754954  0.245046\n",
       "30000+        0.756296  0.243704\n",
       "20000-24999   0.758558  0.241442\n",
       "0-9999        0.761649  0.238351\n",
       "10000-14999   0.764325  0.235675"
      ]
     },
     "execution_count": 148,
     "metadata": {},
     "output_type": "execute_result"
    }
   ],
   "source": [
    "pd.crosstab(health['Premium_bins'], health['Response'], normalize='index').sort_values(1, ascending=False)"
   ]
  },
  {
   "cell_type": "code",
   "execution_count": 149,
   "id": "e4bd6335",
   "metadata": {
    "scrolled": true
   },
   "outputs": [
    {
     "data": {
      "image/png": "[encoded data removed]",
      "text/plain": [
       "<Figure size 720x360 with 1 Axes>"
      ]
     },
     "metadata": {
      "needs_background": "light"
     },
     "output_type": "display_data"
    }
   ],
   "source": [
    "fig, ax = plt.subplots(figsize=(10,5))\n",
    "pd.crosstab(health['Premium_bins'], health['Response'], normalize='index').sort_values(1, ascending=False).plot.bar(ax=ax, color=['teal', 'darkslategray'])\n",
    "plt.xticks(rotation='horizontal')\n",
    "plt.show()"
   ]
  },
  {
   "cell_type": "markdown",
   "id": "523b5387",
   "metadata": {},
   "source": [
    "#### Interpretation:\n",
    "- The most common premium range is '0-9999', followed closely by '10000-14999'.\n",
    "- The premium range '15000-19999' has a relatively high count as well.\n",
    "- The higher premium ranges, such as '20000-24999', '25000-29999', and '30000+', have progressively lower counts.\n",
    "- The premium range '25000-29999' has the highest proportion of positive responses (1).\n",
    "- The premium range '0-9999' has the highest proportion of negative responses (0).\n",
    "- Overall, as the premium range increases, the proportion of positive responses tends to decrease."
   ]
  },
  {
   "cell_type": "code",
   "execution_count": 150,
   "id": "665c1e74",
   "metadata": {},
   "outputs": [
    {
     "data": {
      "image/png": "[encoded data removed]",
      "text/plain": [
       "<Figure size 720x720 with 2 Axes>"
      ]
     },
     "metadata": {
      "needs_background": "light"
     },
     "output_type": "display_data"
    }
   ],
   "source": [
    "plt.figure(figsize=(10,10))\n",
    "sns.heatmap(health.corr(), annot=True, cmap='inferno')\n",
    "plt.show()"
   ]
  },
  {
   "cell_type": "markdown",
   "id": "7213398e",
   "metadata": {},
   "source": [
    "#### Feature selection"
   ]
  },
  {
   "cell_type": "code",
   "execution_count": 151,
   "id": "6981fd31",
   "metadata": {},
   "outputs": [],
   "source": [
    "health.drop(['ID','Region_Code','Upper_Age','Lower_Age'],axis=1,inplace=True)"
   ]
  },
  {
   "cell_type": "markdown",
   "id": "518b20b9",
   "metadata": {},
   "source": [
    "To simplify the data and improve efficiency, the unique 'ID' and 'Region Code' columns will be dropped. 'Region Code' contains numerous categorical values that would require extensive one-hot encoding. Since the 'City Code' feature already captures geographical information to some extent."
   ]
  },
  {
   "cell_type": "code",
   "execution_count": 152,
   "id": "5b896486",
   "metadata": {},
   "outputs": [
    {
     "name": "stdout",
     "output_type": "stream",
     "text": [
      "13\n"
     ]
    },
    {
     "data": {
      "text/plain": [
       "Index(['City_Code', 'Accomodation_Type', 'Reco_Insurance_Type', 'Is_Spouse',\n",
       "       'Health Indicator', 'Holding_Policy_Duration', 'Holding_Policy_Type',\n",
       "       'Reco_Policy_Cat', 'Reco_Policy_Premium', 'Response', 'Avg_Age',\n",
       "       'Long_Term_Cust', 'Premium_bins'],\n",
       "      dtype='object')"
      ]
     },
     "execution_count": 152,
     "metadata": {},
     "output_type": "execute_result"
    }
   ],
   "source": [
    "print(len(health.columns))\n",
    "health.columns"
   ]
  },
  {
   "cell_type": "markdown",
   "id": "a9e12be3",
   "metadata": {},
   "source": [
    "#### Separating out numerical columns\n",
    "- to scale data"
   ]
  },
  {
   "cell_type": "code",
   "execution_count": 153,
   "id": "984caff7",
   "metadata": {},
   "outputs": [
    {
     "name": "stdout",
     "output_type": "stream",
     "text": [
      "3\n",
      "['Reco_Policy_Premium', 'Response', 'Avg_Age']\n"
     ]
    }
   ],
   "source": [
    "num_col = []\n",
    "for i in health.columns:\n",
    "    if health[i].dtype == 'float64' or health[i].dtype == 'int64':\n",
    "        num_col.append(i)\n",
    "    else:\n",
    "        pass\n",
    "\n",
    "print(len(num_col))    \n",
    "print(num_col)"
   ]
  },
  {
   "cell_type": "markdown",
   "id": "413642ca",
   "metadata": {},
   "source": [
    "#### Separating out categorical columns\n",
    "- to do encoding "
   ]
  },
  {
   "cell_type": "code",
   "execution_count": 154,
   "id": "2edf4f63",
   "metadata": {},
   "outputs": [
    {
     "name": "stdout",
     "output_type": "stream",
     "text": [
      "10\n",
      "['City_Code', 'Accomodation_Type', 'Reco_Insurance_Type', 'Is_Spouse', 'Health Indicator', 'Holding_Policy_Duration', 'Holding_Policy_Type', 'Reco_Policy_Cat', 'Long_Term_Cust', 'Premium_bins']\n"
     ]
    }
   ],
   "source": [
    "cat_col = []\n",
    "for i in health.columns:\n",
    "    if health[i].dtype == 'object':\n",
    "        cat_col.append(i)\n",
    "    else:\n",
    "        pass\n",
    "\n",
    "print(len(cat_col))    \n",
    "print(cat_col)"
   ]
  },
  {
   "cell_type": "code",
   "execution_count": 155,
   "id": "03997269",
   "metadata": {},
   "outputs": [],
   "source": [
    "#creating copy of original dataframe\n",
    "health_c = health.copy()"
   ]
  },
  {
   "cell_type": "code",
   "execution_count": 156,
   "id": "f1cd1334",
   "metadata": {},
   "outputs": [
    {
     "name": "stdout",
     "output_type": "stream",
     "text": [
      "(50882, 13)\n"
     ]
    },
    {
     "data": {
      "text/html": [
       "<div>\n",
       "<style scoped>\n",
       "    .dataframe tbody tr th:only-of-type {\n",
       "        vertical-align: middle;\n",
       "    }\n",
       "\n",
       "    .dataframe tbody tr th {\n",
       "        vertical-align: top;\n",
       "    }\n",
       "\n",
       "    .dataframe thead th {\n",
       "        text-align: right;\n",
       "    }\n",
       "</style>\n",
       "<table border=\"1\" class=\"dataframe\">\n",
       "  <thead>\n",
       "    <tr style=\"text-align: right;\">\n",
       "      <th></th>\n",
       "      <th>City_Code</th>\n",
       "      <th>Accomodation_Type</th>\n",
       "      <th>Reco_Insurance_Type</th>\n",
       "      <th>Is_Spouse</th>\n",
       "      <th>Health Indicator</th>\n",
       "      <th>Holding_Policy_Duration</th>\n",
       "      <th>Holding_Policy_Type</th>\n",
       "      <th>Reco_Policy_Cat</th>\n",
       "      <th>Reco_Policy_Premium</th>\n",
       "      <th>Response</th>\n",
       "      <th>Avg_Age</th>\n",
       "      <th>Long_Term_Cust</th>\n",
       "      <th>Premium_bins</th>\n",
       "    </tr>\n",
       "  </thead>\n",
       "  <tbody>\n",
       "    <tr>\n",
       "      <th>0</th>\n",
       "      <td>C3</td>\n",
       "      <td>Rented</td>\n",
       "      <td>Individual</td>\n",
       "      <td>No</td>\n",
       "      <td>X1</td>\n",
       "      <td>15</td>\n",
       "      <td>3.0</td>\n",
       "      <td>22</td>\n",
       "      <td>11628.0</td>\n",
       "      <td>0</td>\n",
       "      <td>36.0</td>\n",
       "      <td>No</td>\n",
       "      <td>10000-14999</td>\n",
       "    </tr>\n",
       "    <tr>\n",
       "      <th>1</th>\n",
       "      <td>C5</td>\n",
       "      <td>Owned</td>\n",
       "      <td>Joint</td>\n",
       "      <td>No</td>\n",
       "      <td>X2</td>\n",
       "      <td>0</td>\n",
       "      <td>0.0</td>\n",
       "      <td>22</td>\n",
       "      <td>30510.0</td>\n",
       "      <td>0</td>\n",
       "      <td>48.5</td>\n",
       "      <td>No</td>\n",
       "      <td>30000+</td>\n",
       "    </tr>\n",
       "  </tbody>\n",
       "</table>\n",
       "</div>"
      ],
      "text/plain": [
       "  City_Code Accomodation_Type Reco_Insurance_Type Is_Spouse Health Indicator  \\\n",
       "0        C3            Rented          Individual        No               X1   \n",
       "1        C5             Owned               Joint        No               X2   \n",
       "\n",
       "  Holding_Policy_Duration Holding_Policy_Type Reco_Policy_Cat  \\\n",
       "0                      15                 3.0              22   \n",
       "1                       0                 0.0              22   \n",
       "\n",
       "   Reco_Policy_Premium  Response  Avg_Age Long_Term_Cust Premium_bins  \n",
       "0              11628.0         0     36.0             No  10000-14999  \n",
       "1              30510.0         0     48.5             No       30000+  "
      ]
     },
     "execution_count": 156,
     "metadata": {},
     "output_type": "execute_result"
    }
   ],
   "source": [
    "print(health_c.shape)\n",
    "health_c.head(2)"
   ]
  },
  {
   "cell_type": "markdown",
   "id": "c6b3550b",
   "metadata": {},
   "source": [
    "#### Defining X and Y"
   ]
  },
  {
   "cell_type": "code",
   "execution_count": 157,
   "id": "579a4217",
   "metadata": {},
   "outputs": [],
   "source": [
    "x = health_c.drop('Response', axis=1)\n",
    "y = health_c.Response"
   ]
  },
  {
   "cell_type": "code",
   "execution_count": 158,
   "id": "f4522adb",
   "metadata": {},
   "outputs": [
    {
     "name": "stdout",
     "output_type": "stream",
     "text": [
      "shape of x data: (50882, 12)\n"
     ]
    },
    {
     "data": {
      "text/html": [
       "<div>\n",
       "<style scoped>\n",
       "    .dataframe tbody tr th:only-of-type {\n",
       "        vertical-align: middle;\n",
       "    }\n",
       "\n",
       "    .dataframe tbody tr th {\n",
       "        vertical-align: top;\n",
       "    }\n",
       "\n",
       "    .dataframe thead th {\n",
       "        text-align: right;\n",
       "    }\n",
       "</style>\n",
       "<table border=\"1\" class=\"dataframe\">\n",
       "  <thead>\n",
       "    <tr style=\"text-align: right;\">\n",
       "      <th></th>\n",
       "      <th>City_Code</th>\n",
       "      <th>Accomodation_Type</th>\n",
       "      <th>Reco_Insurance_Type</th>\n",
       "      <th>Is_Spouse</th>\n",
       "      <th>Health Indicator</th>\n",
       "      <th>Holding_Policy_Duration</th>\n",
       "      <th>Holding_Policy_Type</th>\n",
       "      <th>Reco_Policy_Cat</th>\n",
       "      <th>Reco_Policy_Premium</th>\n",
       "      <th>Avg_Age</th>\n",
       "      <th>Long_Term_Cust</th>\n",
       "      <th>Premium_bins</th>\n",
       "    </tr>\n",
       "  </thead>\n",
       "  <tbody>\n",
       "    <tr>\n",
       "      <th>0</th>\n",
       "      <td>C3</td>\n",
       "      <td>Rented</td>\n",
       "      <td>Individual</td>\n",
       "      <td>No</td>\n",
       "      <td>X1</td>\n",
       "      <td>15</td>\n",
       "      <td>3.0</td>\n",
       "      <td>22</td>\n",
       "      <td>11628.0</td>\n",
       "      <td>36.0</td>\n",
       "      <td>No</td>\n",
       "      <td>10000-14999</td>\n",
       "    </tr>\n",
       "    <tr>\n",
       "      <th>1</th>\n",
       "      <td>C5</td>\n",
       "      <td>Owned</td>\n",
       "      <td>Joint</td>\n",
       "      <td>No</td>\n",
       "      <td>X2</td>\n",
       "      <td>0</td>\n",
       "      <td>0.0</td>\n",
       "      <td>22</td>\n",
       "      <td>30510.0</td>\n",
       "      <td>48.5</td>\n",
       "      <td>No</td>\n",
       "      <td>30000+</td>\n",
       "    </tr>\n",
       "  </tbody>\n",
       "</table>\n",
       "</div>"
      ],
      "text/plain": [
       "  City_Code Accomodation_Type Reco_Insurance_Type Is_Spouse Health Indicator  \\\n",
       "0        C3            Rented          Individual        No               X1   \n",
       "1        C5             Owned               Joint        No               X2   \n",
       "\n",
       "  Holding_Policy_Duration Holding_Policy_Type Reco_Policy_Cat  \\\n",
       "0                      15                 3.0              22   \n",
       "1                       0                 0.0              22   \n",
       "\n",
       "   Reco_Policy_Premium  Avg_Age Long_Term_Cust Premium_bins  \n",
       "0              11628.0     36.0             No  10000-14999  \n",
       "1              30510.0     48.5             No       30000+  "
      ]
     },
     "execution_count": 158,
     "metadata": {},
     "output_type": "execute_result"
    }
   ],
   "source": [
    "print('shape of x data:', x.shape)\n",
    "x.head(2)"
   ]
  },
  {
   "cell_type": "code",
   "execution_count": 159,
   "id": "442f9cfc",
   "metadata": {},
   "outputs": [
    {
     "name": "stdout",
     "output_type": "stream",
     "text": [
      "shape of y data: (50882,)\n"
     ]
    },
    {
     "data": {
      "text/plain": [
       "0    0\n",
       "1    0\n",
       "Name: Response, dtype: int64"
      ]
     },
     "execution_count": 159,
     "metadata": {},
     "output_type": "execute_result"
    }
   ],
   "source": [
    "print('shape of y data:',y.shape)\n",
    "y.head(2)"
   ]
  },
  {
   "cell_type": "markdown",
   "id": "dd11ea90",
   "metadata": {},
   "source": [
    "#### Tranformation of data\n",
    "- Apply scaling and encoding transformations data using column transformer"
   ]
  },
  {
   "cell_type": "code",
   "execution_count": 160,
   "id": "e71e459b",
   "metadata": {},
   "outputs": [],
   "source": [
    "#import necessary modules\n",
    "from sklearn.compose import ColumnTransformer\n",
    "from sklearn.preprocessing import StandardScaler, OneHotEncoder\n",
    "\n",
    "#Define the transformers for each type of transformation\n",
    "ohe = OneHotEncoder(drop='first')\n",
    "scaler = StandardScaler()"
   ]
  },
  {
   "cell_type": "code",
   "execution_count": 161,
   "id": "0446fd0d",
   "metadata": {},
   "outputs": [],
   "source": [
    "#Identify the columns that require each transformation\n",
    "scale_cols = ['Reco_Policy_Premium', 'Avg_Age']\n",
    "ohe_cols = ['City_Code', 'Accomodation_Type', 'Reco_Insurance_Type', 'Is_Spouse', 'Health Indicator', 'Holding_Policy_Duration', 'Holding_Policy_Type', 'Reco_Policy_Cat', 'Long_Term_Cust', 'Premium_bins']"
   ]
  },
  {
   "cell_type": "code",
   "execution_count": 162,
   "id": "9096b4ab",
   "metadata": {},
   "outputs": [],
   "source": [
    "#create column transformer\n",
    "transformer = ColumnTransformer(\n",
    "    transformers=[\n",
    "        ('scale', scaler, scale_cols),\n",
    "        ('one_hot_encode', ohe, ohe_cols),\n",
    "    ],\n",
    "    remainder='passthrough'\n",
    ")"
   ]
  },
  {
   "cell_type": "code",
   "execution_count": 163,
   "id": "9931edc0",
   "metadata": {},
   "outputs": [
    {
     "name": "stdout",
     "output_type": "stream",
     "text": [
      "(50882, 94)\n"
     ]
    }
   ],
   "source": [
    "#Apply the transformations and get the transformed data\n",
    "t_x = transformer.fit_transform(x)\n",
    "print(t_x.shape)"
   ]
  },
  {
   "cell_type": "code",
   "execution_count": 164,
   "id": "85541adf",
   "metadata": {},
   "outputs": [
    {
     "data": {
      "text/plain": [
       "['City_Code_C10',\n",
       " 'City_Code_C11',\n",
       " 'City_Code_C12',\n",
       " 'City_Code_C13',\n",
       " 'City_Code_C14',\n",
       " 'City_Code_C15',\n",
       " 'City_Code_C16',\n",
       " 'City_Code_C17',\n",
       " 'City_Code_C18',\n",
       " 'City_Code_C19',\n",
       " 'City_Code_C2',\n",
       " 'City_Code_C20',\n",
       " 'City_Code_C21',\n",
       " 'City_Code_C22',\n",
       " 'City_Code_C23',\n",
       " 'City_Code_C24',\n",
       " 'City_Code_C25',\n",
       " 'City_Code_C26',\n",
       " 'City_Code_C27',\n",
       " 'City_Code_C28',\n",
       " 'City_Code_C29',\n",
       " 'City_Code_C3',\n",
       " 'City_Code_C30',\n",
       " 'City_Code_C31',\n",
       " 'City_Code_C32',\n",
       " 'City_Code_C33',\n",
       " 'City_Code_C34',\n",
       " 'City_Code_C35',\n",
       " 'City_Code_C36',\n",
       " 'City_Code_C4',\n",
       " 'City_Code_C5',\n",
       " 'City_Code_C6',\n",
       " 'City_Code_C7',\n",
       " 'City_Code_C8',\n",
       " 'City_Code_C9',\n",
       " 'Accomodation_Type_Rented',\n",
       " 'Reco_Insurance_Type_Joint',\n",
       " 'Is_Spouse_Yes',\n",
       " 'Health Indicator_X1',\n",
       " 'Health Indicator_X2',\n",
       " 'Health Indicator_X3',\n",
       " 'Health Indicator_X4',\n",
       " 'Health Indicator_X5',\n",
       " 'Health Indicator_X6',\n",
       " 'Health Indicator_X7',\n",
       " 'Health Indicator_X8',\n",
       " 'Health Indicator_X9',\n",
       " 'Holding_Policy_Duration_1',\n",
       " 'Holding_Policy_Duration_10',\n",
       " 'Holding_Policy_Duration_11',\n",
       " 'Holding_Policy_Duration_12',\n",
       " 'Holding_Policy_Duration_13',\n",
       " 'Holding_Policy_Duration_14',\n",
       " 'Holding_Policy_Duration_15',\n",
       " 'Holding_Policy_Duration_2',\n",
       " 'Holding_Policy_Duration_3',\n",
       " 'Holding_Policy_Duration_4',\n",
       " 'Holding_Policy_Duration_5',\n",
       " 'Holding_Policy_Duration_6',\n",
       " 'Holding_Policy_Duration_7',\n",
       " 'Holding_Policy_Duration_8',\n",
       " 'Holding_Policy_Duration_9',\n",
       " 'Holding_Policy_Type_1.0',\n",
       " 'Holding_Policy_Type_2.0',\n",
       " 'Holding_Policy_Type_3.0',\n",
       " 'Holding_Policy_Type_4.0',\n",
       " 'Reco_Policy_Cat_10',\n",
       " 'Reco_Policy_Cat_11',\n",
       " 'Reco_Policy_Cat_12',\n",
       " 'Reco_Policy_Cat_13',\n",
       " 'Reco_Policy_Cat_14',\n",
       " 'Reco_Policy_Cat_15',\n",
       " 'Reco_Policy_Cat_16',\n",
       " 'Reco_Policy_Cat_17',\n",
       " 'Reco_Policy_Cat_18',\n",
       " 'Reco_Policy_Cat_19',\n",
       " 'Reco_Policy_Cat_2',\n",
       " 'Reco_Policy_Cat_20',\n",
       " 'Reco_Policy_Cat_21',\n",
       " 'Reco_Policy_Cat_22',\n",
       " 'Reco_Policy_Cat_3',\n",
       " 'Reco_Policy_Cat_4',\n",
       " 'Reco_Policy_Cat_5',\n",
       " 'Reco_Policy_Cat_6',\n",
       " 'Reco_Policy_Cat_7',\n",
       " 'Reco_Policy_Cat_8',\n",
       " 'Reco_Policy_Cat_9',\n",
       " 'Premium_bins_10000-14999',\n",
       " 'Premium_bins_15000-19999',\n",
       " 'Premium_bins_20000-24999',\n",
       " 'Premium_bins_25000-29999',\n",
       " 'Premium_bins_30000+']"
      ]
     },
     "execution_count": 164,
     "metadata": {},
     "output_type": "execute_result"
    }
   ],
   "source": [
    "ohe_col = list(transformer.named_transformers_['one_hot_encode'].get_feature_names(ohe_cols))\n",
    "ohe_col"
   ]
  },
  {
   "cell_type": "code",
   "execution_count": 165,
   "id": "70242254",
   "metadata": {},
   "outputs": [
    {
     "data": {
      "text/plain": [
       "['City_Code_C10',\n",
       " 'City_Code_C11',\n",
       " 'City_Code_C12',\n",
       " 'City_Code_C13',\n",
       " 'City_Code_C14',\n",
       " 'City_Code_C15',\n",
       " 'City_Code_C16',\n",
       " 'City_Code_C17',\n",
       " 'City_Code_C18',\n",
       " 'City_Code_C19',\n",
       " 'City_Code_C2',\n",
       " 'City_Code_C20',\n",
       " 'City_Code_C21',\n",
       " 'City_Code_C22',\n",
       " 'City_Code_C23',\n",
       " 'City_Code_C24',\n",
       " 'City_Code_C25',\n",
       " 'City_Code_C26',\n",
       " 'City_Code_C27',\n",
       " 'City_Code_C28',\n",
       " 'City_Code_C29',\n",
       " 'City_Code_C3',\n",
       " 'City_Code_C30',\n",
       " 'City_Code_C31',\n",
       " 'City_Code_C32',\n",
       " 'City_Code_C33',\n",
       " 'City_Code_C34',\n",
       " 'City_Code_C35',\n",
       " 'City_Code_C36',\n",
       " 'City_Code_C4',\n",
       " 'City_Code_C5',\n",
       " 'City_Code_C6',\n",
       " 'City_Code_C7',\n",
       " 'City_Code_C8',\n",
       " 'City_Code_C9',\n",
       " 'Accomodation_Type_Rented',\n",
       " 'Reco_Insurance_Type_Joint',\n",
       " 'Is_Spouse_Yes',\n",
       " 'Health Indicator_X1',\n",
       " 'Health Indicator_X2',\n",
       " 'Health Indicator_X3',\n",
       " 'Health Indicator_X4',\n",
       " 'Health Indicator_X5',\n",
       " 'Health Indicator_X6',\n",
       " 'Health Indicator_X7',\n",
       " 'Health Indicator_X8',\n",
       " 'Health Indicator_X9',\n",
       " 'Holding_Policy_Duration_1',\n",
       " 'Holding_Policy_Duration_10',\n",
       " 'Holding_Policy_Duration_11',\n",
       " 'Holding_Policy_Duration_12',\n",
       " 'Holding_Policy_Duration_13',\n",
       " 'Holding_Policy_Duration_14',\n",
       " 'Holding_Policy_Duration_15',\n",
       " 'Holding_Policy_Duration_2',\n",
       " 'Holding_Policy_Duration_3',\n",
       " 'Holding_Policy_Duration_4',\n",
       " 'Holding_Policy_Duration_5',\n",
       " 'Holding_Policy_Duration_6',\n",
       " 'Holding_Policy_Duration_7',\n",
       " 'Holding_Policy_Duration_8',\n",
       " 'Holding_Policy_Duration_9',\n",
       " 'Holding_Policy_Type_1.0',\n",
       " 'Holding_Policy_Type_2.0',\n",
       " 'Holding_Policy_Type_3.0',\n",
       " 'Holding_Policy_Type_4.0',\n",
       " 'Reco_Policy_Cat_10',\n",
       " 'Reco_Policy_Cat_11',\n",
       " 'Reco_Policy_Cat_12',\n",
       " 'Reco_Policy_Cat_13',\n",
       " 'Reco_Policy_Cat_14',\n",
       " 'Reco_Policy_Cat_15',\n",
       " 'Reco_Policy_Cat_16',\n",
       " 'Reco_Policy_Cat_17',\n",
       " 'Reco_Policy_Cat_18',\n",
       " 'Reco_Policy_Cat_19',\n",
       " 'Reco_Policy_Cat_2',\n",
       " 'Reco_Policy_Cat_20',\n",
       " 'Reco_Policy_Cat_21',\n",
       " 'Reco_Policy_Cat_22',\n",
       " 'Reco_Policy_Cat_3',\n",
       " 'Reco_Policy_Cat_4',\n",
       " 'Reco_Policy_Cat_5',\n",
       " 'Reco_Policy_Cat_6',\n",
       " 'Reco_Policy_Cat_7',\n",
       " 'Reco_Policy_Cat_8',\n",
       " 'Reco_Policy_Cat_9',\n",
       " 'Premium_bins_10000-14999',\n",
       " 'Premium_bins_15000-19999',\n",
       " 'Premium_bins_20000-24999',\n",
       " 'Premium_bins_25000-29999',\n",
       " 'Premium_bins_30000+',\n",
       " 'Reco_Policy_Premium',\n",
       " 'Avg_Age']"
      ]
     },
     "execution_count": 165,
     "metadata": {},
     "output_type": "execute_result"
    }
   ],
   "source": [
    "all_col = ohe_col+scale_cols\n",
    "all_col"
   ]
  },
  {
   "cell_type": "code",
   "execution_count": 166,
   "id": "2da89a10",
   "metadata": {},
   "outputs": [],
   "source": [
    "# Convert sparse matrix to NumPy array\n",
    "t_x_array = t_x.toarray()"
   ]
  },
  {
   "cell_type": "code",
   "execution_count": 167,
   "id": "fe27180b",
   "metadata": {},
   "outputs": [],
   "source": [
    "trans_df_x = pd.DataFrame(t_x_array, columns=all_col)"
   ]
  },
  {
   "cell_type": "code",
   "execution_count": 168,
   "id": "6bdee7a3",
   "metadata": {},
   "outputs": [
    {
     "data": {
      "text/html": [
       "<div>\n",
       "<style scoped>\n",
       "    .dataframe tbody tr th:only-of-type {\n",
       "        vertical-align: middle;\n",
       "    }\n",
       "\n",
       "    .dataframe tbody tr th {\n",
       "        vertical-align: top;\n",
       "    }\n",
       "\n",
       "    .dataframe thead th {\n",
       "        text-align: right;\n",
       "    }\n",
       "</style>\n",
       "<table border=\"1\" class=\"dataframe\">\n",
       "  <thead>\n",
       "    <tr style=\"text-align: right;\">\n",
       "      <th></th>\n",
       "      <th>City_Code_C10</th>\n",
       "      <th>City_Code_C11</th>\n",
       "      <th>City_Code_C12</th>\n",
       "      <th>City_Code_C13</th>\n",
       "      <th>City_Code_C14</th>\n",
       "      <th>City_Code_C15</th>\n",
       "      <th>City_Code_C16</th>\n",
       "      <th>City_Code_C17</th>\n",
       "      <th>City_Code_C18</th>\n",
       "      <th>City_Code_C19</th>\n",
       "      <th>City_Code_C2</th>\n",
       "      <th>City_Code_C20</th>\n",
       "      <th>City_Code_C21</th>\n",
       "      <th>City_Code_C22</th>\n",
       "      <th>City_Code_C23</th>\n",
       "      <th>City_Code_C24</th>\n",
       "      <th>City_Code_C25</th>\n",
       "      <th>City_Code_C26</th>\n",
       "      <th>City_Code_C27</th>\n",
       "      <th>City_Code_C28</th>\n",
       "      <th>City_Code_C29</th>\n",
       "      <th>City_Code_C3</th>\n",
       "      <th>City_Code_C30</th>\n",
       "      <th>City_Code_C31</th>\n",
       "      <th>City_Code_C32</th>\n",
       "      <th>City_Code_C33</th>\n",
       "      <th>City_Code_C34</th>\n",
       "      <th>City_Code_C35</th>\n",
       "      <th>City_Code_C36</th>\n",
       "      <th>City_Code_C4</th>\n",
       "      <th>City_Code_C5</th>\n",
       "      <th>City_Code_C6</th>\n",
       "      <th>City_Code_C7</th>\n",
       "      <th>City_Code_C8</th>\n",
       "      <th>City_Code_C9</th>\n",
       "      <th>Accomodation_Type_Rented</th>\n",
       "      <th>Reco_Insurance_Type_Joint</th>\n",
       "      <th>Is_Spouse_Yes</th>\n",
       "      <th>Health Indicator_X1</th>\n",
       "      <th>Health Indicator_X2</th>\n",
       "      <th>Health Indicator_X3</th>\n",
       "      <th>Health Indicator_X4</th>\n",
       "      <th>Health Indicator_X5</th>\n",
       "      <th>Health Indicator_X6</th>\n",
       "      <th>Health Indicator_X7</th>\n",
       "      <th>Health Indicator_X8</th>\n",
       "      <th>Health Indicator_X9</th>\n",
       "      <th>Holding_Policy_Duration_1</th>\n",
       "      <th>Holding_Policy_Duration_10</th>\n",
       "      <th>Holding_Policy_Duration_11</th>\n",
       "      <th>Holding_Policy_Duration_12</th>\n",
       "      <th>Holding_Policy_Duration_13</th>\n",
       "      <th>Holding_Policy_Duration_14</th>\n",
       "      <th>Holding_Policy_Duration_15</th>\n",
       "      <th>Holding_Policy_Duration_2</th>\n",
       "      <th>Holding_Policy_Duration_3</th>\n",
       "      <th>Holding_Policy_Duration_4</th>\n",
       "      <th>Holding_Policy_Duration_5</th>\n",
       "      <th>Holding_Policy_Duration_6</th>\n",
       "      <th>Holding_Policy_Duration_7</th>\n",
       "      <th>Holding_Policy_Duration_8</th>\n",
       "      <th>Holding_Policy_Duration_9</th>\n",
       "      <th>Holding_Policy_Type_1.0</th>\n",
       "      <th>Holding_Policy_Type_2.0</th>\n",
       "      <th>Holding_Policy_Type_3.0</th>\n",
       "      <th>Holding_Policy_Type_4.0</th>\n",
       "      <th>Reco_Policy_Cat_10</th>\n",
       "      <th>Reco_Policy_Cat_11</th>\n",
       "      <th>Reco_Policy_Cat_12</th>\n",
       "      <th>Reco_Policy_Cat_13</th>\n",
       "      <th>Reco_Policy_Cat_14</th>\n",
       "      <th>Reco_Policy_Cat_15</th>\n",
       "      <th>Reco_Policy_Cat_16</th>\n",
       "      <th>Reco_Policy_Cat_17</th>\n",
       "      <th>Reco_Policy_Cat_18</th>\n",
       "      <th>Reco_Policy_Cat_19</th>\n",
       "      <th>Reco_Policy_Cat_2</th>\n",
       "      <th>Reco_Policy_Cat_20</th>\n",
       "      <th>Reco_Policy_Cat_21</th>\n",
       "      <th>Reco_Policy_Cat_22</th>\n",
       "      <th>Reco_Policy_Cat_3</th>\n",
       "      <th>Reco_Policy_Cat_4</th>\n",
       "      <th>Reco_Policy_Cat_5</th>\n",
       "      <th>Reco_Policy_Cat_6</th>\n",
       "      <th>Reco_Policy_Cat_7</th>\n",
       "      <th>Reco_Policy_Cat_8</th>\n",
       "      <th>Reco_Policy_Cat_9</th>\n",
       "      <th>Premium_bins_10000-14999</th>\n",
       "      <th>Premium_bins_15000-19999</th>\n",
       "      <th>Premium_bins_20000-24999</th>\n",
       "      <th>Premium_bins_25000-29999</th>\n",
       "      <th>Premium_bins_30000+</th>\n",
       "      <th>Reco_Policy_Premium</th>\n",
       "      <th>Avg_Age</th>\n",
       "    </tr>\n",
       "  </thead>\n",
       "  <tbody>\n",
       "    <tr>\n",
       "      <th>0</th>\n",
       "      <td>-0.387852</td>\n",
       "      <td>-0.459465</td>\n",
       "      <td>0.0</td>\n",
       "      <td>0.0</td>\n",
       "      <td>0.0</td>\n",
       "      <td>0.0</td>\n",
       "      <td>0.0</td>\n",
       "      <td>0.0</td>\n",
       "      <td>0.0</td>\n",
       "      <td>0.0</td>\n",
       "      <td>0.0</td>\n",
       "      <td>0.0</td>\n",
       "      <td>0.0</td>\n",
       "      <td>0.0</td>\n",
       "      <td>0.0</td>\n",
       "      <td>0.0</td>\n",
       "      <td>0.0</td>\n",
       "      <td>0.0</td>\n",
       "      <td>0.0</td>\n",
       "      <td>0.0</td>\n",
       "      <td>0.0</td>\n",
       "      <td>0.0</td>\n",
       "      <td>0.0</td>\n",
       "      <td>1.0</td>\n",
       "      <td>0.0</td>\n",
       "      <td>0.0</td>\n",
       "      <td>0.0</td>\n",
       "      <td>0.0</td>\n",
       "      <td>0.0</td>\n",
       "      <td>0.0</td>\n",
       "      <td>0.0</td>\n",
       "      <td>0.0</td>\n",
       "      <td>0.0</td>\n",
       "      <td>0.0</td>\n",
       "      <td>0.0</td>\n",
       "      <td>0.0</td>\n",
       "      <td>0.0</td>\n",
       "      <td>1.0</td>\n",
       "      <td>0.0</td>\n",
       "      <td>0.0</td>\n",
       "      <td>1.0</td>\n",
       "      <td>0.0</td>\n",
       "      <td>0.0</td>\n",
       "      <td>0.0</td>\n",
       "      <td>0.0</td>\n",
       "      <td>0.0</td>\n",
       "      <td>0.0</td>\n",
       "      <td>0.0</td>\n",
       "      <td>0.0</td>\n",
       "      <td>0.0</td>\n",
       "      <td>0.0</td>\n",
       "      <td>0.0</td>\n",
       "      <td>0.0</td>\n",
       "      <td>0.0</td>\n",
       "      <td>0.0</td>\n",
       "      <td>1.0</td>\n",
       "      <td>0.0</td>\n",
       "      <td>0.0</td>\n",
       "      <td>0.0</td>\n",
       "      <td>0.0</td>\n",
       "      <td>0.0</td>\n",
       "      <td>0.0</td>\n",
       "      <td>0.0</td>\n",
       "      <td>0.0</td>\n",
       "      <td>0.0</td>\n",
       "      <td>0.0</td>\n",
       "      <td>1.0</td>\n",
       "      <td>0.0</td>\n",
       "      <td>0.0</td>\n",
       "      <td>0.0</td>\n",
       "      <td>0.0</td>\n",
       "      <td>0.0</td>\n",
       "      <td>0.0</td>\n",
       "      <td>0.0</td>\n",
       "      <td>0.0</td>\n",
       "      <td>0.0</td>\n",
       "      <td>0.0</td>\n",
       "      <td>0.0</td>\n",
       "      <td>0.0</td>\n",
       "      <td>0.0</td>\n",
       "      <td>0.0</td>\n",
       "      <td>1.0</td>\n",
       "      <td>0.0</td>\n",
       "      <td>0.0</td>\n",
       "      <td>0.0</td>\n",
       "      <td>0.0</td>\n",
       "      <td>0.0</td>\n",
       "      <td>0.0</td>\n",
       "      <td>0.0</td>\n",
       "      <td>1.0</td>\n",
       "      <td>0.0</td>\n",
       "      <td>0.0</td>\n",
       "      <td>0.0</td>\n",
       "      <td>0.0</td>\n",
       "    </tr>\n",
       "    <tr>\n",
       "      <th>1</th>\n",
       "      <td>2.477394</td>\n",
       "      <td>0.277087</td>\n",
       "      <td>0.0</td>\n",
       "      <td>0.0</td>\n",
       "      <td>0.0</td>\n",
       "      <td>0.0</td>\n",
       "      <td>0.0</td>\n",
       "      <td>0.0</td>\n",
       "      <td>0.0</td>\n",
       "      <td>0.0</td>\n",
       "      <td>0.0</td>\n",
       "      <td>0.0</td>\n",
       "      <td>0.0</td>\n",
       "      <td>0.0</td>\n",
       "      <td>0.0</td>\n",
       "      <td>0.0</td>\n",
       "      <td>0.0</td>\n",
       "      <td>0.0</td>\n",
       "      <td>0.0</td>\n",
       "      <td>0.0</td>\n",
       "      <td>0.0</td>\n",
       "      <td>0.0</td>\n",
       "      <td>0.0</td>\n",
       "      <td>0.0</td>\n",
       "      <td>0.0</td>\n",
       "      <td>0.0</td>\n",
       "      <td>0.0</td>\n",
       "      <td>0.0</td>\n",
       "      <td>0.0</td>\n",
       "      <td>0.0</td>\n",
       "      <td>0.0</td>\n",
       "      <td>0.0</td>\n",
       "      <td>1.0</td>\n",
       "      <td>0.0</td>\n",
       "      <td>0.0</td>\n",
       "      <td>0.0</td>\n",
       "      <td>0.0</td>\n",
       "      <td>0.0</td>\n",
       "      <td>1.0</td>\n",
       "      <td>0.0</td>\n",
       "      <td>0.0</td>\n",
       "      <td>1.0</td>\n",
       "      <td>0.0</td>\n",
       "      <td>0.0</td>\n",
       "      <td>0.0</td>\n",
       "      <td>0.0</td>\n",
       "      <td>0.0</td>\n",
       "      <td>0.0</td>\n",
       "      <td>0.0</td>\n",
       "      <td>0.0</td>\n",
       "      <td>0.0</td>\n",
       "      <td>0.0</td>\n",
       "      <td>0.0</td>\n",
       "      <td>0.0</td>\n",
       "      <td>0.0</td>\n",
       "      <td>0.0</td>\n",
       "      <td>0.0</td>\n",
       "      <td>0.0</td>\n",
       "      <td>0.0</td>\n",
       "      <td>0.0</td>\n",
       "      <td>0.0</td>\n",
       "      <td>0.0</td>\n",
       "      <td>0.0</td>\n",
       "      <td>0.0</td>\n",
       "      <td>0.0</td>\n",
       "      <td>0.0</td>\n",
       "      <td>0.0</td>\n",
       "      <td>0.0</td>\n",
       "      <td>0.0</td>\n",
       "      <td>0.0</td>\n",
       "      <td>0.0</td>\n",
       "      <td>0.0</td>\n",
       "      <td>0.0</td>\n",
       "      <td>0.0</td>\n",
       "      <td>0.0</td>\n",
       "      <td>0.0</td>\n",
       "      <td>0.0</td>\n",
       "      <td>0.0</td>\n",
       "      <td>0.0</td>\n",
       "      <td>0.0</td>\n",
       "      <td>0.0</td>\n",
       "      <td>1.0</td>\n",
       "      <td>0.0</td>\n",
       "      <td>0.0</td>\n",
       "      <td>0.0</td>\n",
       "      <td>0.0</td>\n",
       "      <td>0.0</td>\n",
       "      <td>0.0</td>\n",
       "      <td>0.0</td>\n",
       "      <td>0.0</td>\n",
       "      <td>0.0</td>\n",
       "      <td>0.0</td>\n",
       "      <td>0.0</td>\n",
       "      <td>1.0</td>\n",
       "    </tr>\n",
       "  </tbody>\n",
       "</table>\n",
       "</div>"
      ],
      "text/plain": [
       "   City_Code_C10  City_Code_C11  City_Code_C12  City_Code_C13  City_Code_C14  \\\n",
       "0      -0.387852      -0.459465            0.0            0.0            0.0   \n",
       "1       2.477394       0.277087            0.0            0.0            0.0   \n",
       "\n",
       "   City_Code_C15  City_Code_C16  City_Code_C17  City_Code_C18  City_Code_C19  \\\n",
       "0            0.0            0.0            0.0            0.0            0.0   \n",
       "1            0.0            0.0            0.0            0.0            0.0   \n",
       "\n",
       "   City_Code_C2  City_Code_C20  City_Code_C21  City_Code_C22  City_Code_C23  \\\n",
       "0           0.0            0.0            0.0            0.0            0.0   \n",
       "1           0.0            0.0            0.0            0.0            0.0   \n",
       "\n",
       "   City_Code_C24  City_Code_C25  City_Code_C26  City_Code_C27  City_Code_C28  \\\n",
       "0            0.0            0.0            0.0            0.0            0.0   \n",
       "1            0.0            0.0            0.0            0.0            0.0   \n",
       "\n",
       "   City_Code_C29  City_Code_C3  City_Code_C30  City_Code_C31  City_Code_C32  \\\n",
       "0            0.0           0.0            0.0            1.0            0.0   \n",
       "1            0.0           0.0            0.0            0.0            0.0   \n",
       "\n",
       "   City_Code_C33  City_Code_C34  City_Code_C35  City_Code_C36  City_Code_C4  \\\n",
       "0            0.0            0.0            0.0            0.0           0.0   \n",
       "1            0.0            0.0            0.0            0.0           0.0   \n",
       "\n",
       "   City_Code_C5  City_Code_C6  City_Code_C7  City_Code_C8  City_Code_C9  \\\n",
       "0           0.0           0.0           0.0           0.0           0.0   \n",
       "1           0.0           0.0           1.0           0.0           0.0   \n",
       "\n",
       "   Accomodation_Type_Rented  Reco_Insurance_Type_Joint  Is_Spouse_Yes  \\\n",
       "0                       0.0                        0.0            1.0   \n",
       "1                       0.0                        0.0            0.0   \n",
       "\n",
       "   Health Indicator_X1  Health Indicator_X2  Health Indicator_X3  \\\n",
       "0                  0.0                  0.0                  1.0   \n",
       "1                  1.0                  0.0                  0.0   \n",
       "\n",
       "   Health Indicator_X4  Health Indicator_X5  Health Indicator_X6  \\\n",
       "0                  0.0                  0.0                  0.0   \n",
       "1                  1.0                  0.0                  0.0   \n",
       "\n",
       "   Health Indicator_X7  Health Indicator_X8  Health Indicator_X9  \\\n",
       "0                  0.0                  0.0                  0.0   \n",
       "1                  0.0                  0.0                  0.0   \n",
       "\n",
       "   Holding_Policy_Duration_1  Holding_Policy_Duration_10  \\\n",
       "0                        0.0                         0.0   \n",
       "1                        0.0                         0.0   \n",
       "\n",
       "   Holding_Policy_Duration_11  Holding_Policy_Duration_12  \\\n",
       "0                         0.0                         0.0   \n",
       "1                         0.0                         0.0   \n",
       "\n",
       "   Holding_Policy_Duration_13  Holding_Policy_Duration_14  \\\n",
       "0                         0.0                         0.0   \n",
       "1                         0.0                         0.0   \n",
       "\n",
       "   Holding_Policy_Duration_15  Holding_Policy_Duration_2  \\\n",
       "0                         0.0                        0.0   \n",
       "1                         0.0                        0.0   \n",
       "\n",
       "   Holding_Policy_Duration_3  Holding_Policy_Duration_4  \\\n",
       "0                        1.0                        0.0   \n",
       "1                        0.0                        0.0   \n",
       "\n",
       "   Holding_Policy_Duration_5  Holding_Policy_Duration_6  \\\n",
       "0                        0.0                        0.0   \n",
       "1                        0.0                        0.0   \n",
       "\n",
       "   Holding_Policy_Duration_7  Holding_Policy_Duration_8  \\\n",
       "0                        0.0                        0.0   \n",
       "1                        0.0                        0.0   \n",
       "\n",
       "   Holding_Policy_Duration_9  Holding_Policy_Type_1.0  \\\n",
       "0                        0.0                      0.0   \n",
       "1                        0.0                      0.0   \n",
       "\n",
       "   Holding_Policy_Type_2.0  Holding_Policy_Type_3.0  Holding_Policy_Type_4.0  \\\n",
       "0                      0.0                      0.0                      0.0   \n",
       "1                      0.0                      0.0                      0.0   \n",
       "\n",
       "   Reco_Policy_Cat_10  Reco_Policy_Cat_11  Reco_Policy_Cat_12  \\\n",
       "0                 1.0                 0.0                 0.0   \n",
       "1                 0.0                 0.0                 0.0   \n",
       "\n",
       "   Reco_Policy_Cat_13  Reco_Policy_Cat_14  Reco_Policy_Cat_15  \\\n",
       "0                 0.0                 0.0                 0.0   \n",
       "1                 0.0                 0.0                 0.0   \n",
       "\n",
       "   Reco_Policy_Cat_16  Reco_Policy_Cat_17  Reco_Policy_Cat_18  \\\n",
       "0                 0.0                 0.0                 0.0   \n",
       "1                 0.0                 0.0                 0.0   \n",
       "\n",
       "   Reco_Policy_Cat_19  Reco_Policy_Cat_2  Reco_Policy_Cat_20  \\\n",
       "0                 0.0                0.0                 0.0   \n",
       "1                 0.0                0.0                 0.0   \n",
       "\n",
       "   Reco_Policy_Cat_21  Reco_Policy_Cat_22  Reco_Policy_Cat_3  \\\n",
       "0                 0.0                 0.0                0.0   \n",
       "1                 0.0                 0.0                0.0   \n",
       "\n",
       "   Reco_Policy_Cat_4  Reco_Policy_Cat_5  Reco_Policy_Cat_6  Reco_Policy_Cat_7  \\\n",
       "0                1.0                0.0                0.0                0.0   \n",
       "1                1.0                0.0                0.0                0.0   \n",
       "\n",
       "   Reco_Policy_Cat_8  Reco_Policy_Cat_9  Premium_bins_10000-14999  \\\n",
       "0                0.0                0.0                       0.0   \n",
       "1                0.0                0.0                       0.0   \n",
       "\n",
       "   Premium_bins_15000-19999  Premium_bins_20000-24999  \\\n",
       "0                       0.0                       1.0   \n",
       "1                       0.0                       0.0   \n",
       "\n",
       "   Premium_bins_25000-29999  Premium_bins_30000+  Reco_Policy_Premium  Avg_Age  \n",
       "0                       0.0                  0.0                  0.0      0.0  \n",
       "1                       0.0                  0.0                  0.0      1.0  "
      ]
     },
     "execution_count": 168,
     "metadata": {},
     "output_type": "execute_result"
    }
   ],
   "source": [
    "trans_df_x.head(2)"
   ]
  },
  {
   "cell_type": "markdown",
   "id": "80b8542f",
   "metadata": {},
   "source": [
    "- because data is imbalanced so will synthesize the data"
   ]
  },
  {
   "cell_type": "code",
   "execution_count": 169,
   "id": "5fecff6f",
   "metadata": {},
   "outputs": [
    {
     "name": "stdout",
     "output_type": "stream",
     "text": [
      "Original dataset shape Counter({0: 38673, 1: 12209})\n",
      "After undersample dataset shape Counter({0: 38673, 1: 38673})\n"
     ]
    }
   ],
   "source": [
    "import imblearn\n",
    "from collections import Counter\n",
    "from imblearn.over_sampling import SMOTE \n",
    "smote = SMOTE(random_state=42)\n",
    "\n",
    "print('Original dataset shape %s' % Counter(y))\n",
    "\n",
    "x_res, y_res = smote.fit_resample(trans_df_x, y)\n",
    "print('After undersample dataset shape %s' % Counter(y_res))"
   ]
  },
  {
   "cell_type": "markdown",
   "id": "4e525248",
   "metadata": {},
   "source": [
    "#### Splitting the data into Train and Test"
   ]
  },
  {
   "cell_type": "code",
   "execution_count": 170,
   "id": "9e458360",
   "metadata": {},
   "outputs": [],
   "source": [
    "from sklearn.model_selection import train_test_split"
   ]
  },
  {
   "cell_type": "code",
   "execution_count": 171,
   "id": "7392456a",
   "metadata": {},
   "outputs": [],
   "source": [
    "x_train, x_test, y_train, y_test = train_test_split(x_res, y_res, test_size = 0.2, random_state = 0, stratify=y_res)"
   ]
  },
  {
   "cell_type": "code",
   "execution_count": 172,
   "id": "907576e9",
   "metadata": {},
   "outputs": [
    {
     "name": "stdout",
     "output_type": "stream",
     "text": [
      "shape of x_train (61876, 94)\n",
      "shape of x_test (15470, 94)\n",
      "shape of y_train (61876,)\n",
      "shape of y_test (15470,)\n"
     ]
    }
   ],
   "source": [
    "print('shape of x_train',x_train.shape)\n",
    "print('shape of x_test',x_test.shape)\n",
    "print('shape of y_train',y_train.shape)\n",
    "print('shape of y_test',y_test.shape)"
   ]
  },
  {
   "cell_type": "code",
   "execution_count": 173,
   "id": "982b362d",
   "metadata": {},
   "outputs": [
    {
     "name": "stdout",
     "output_type": "stream",
     "text": [
      "new y_train:/n1    50.0\n",
      "0    50.0\n",
      "Name: Response, dtype: float64/nnew y_test:/n1    50.0\n",
      "0    50.0\n",
      "Name: Response, dtype: float64\n"
     ]
    }
   ],
   "source": [
    "print('new y_train:', y_train.value_counts(normalize=True)*100, 'new y_test:', y_test.value_counts(normalize=True)*100, sep='/n')"
   ]
  },
  {
   "cell_type": "code",
   "execution_count": 174,
   "id": "6f497098",
   "metadata": {},
   "outputs": [
    {
     "name": "stdout",
     "output_type": "stream",
     "text": [
      "new y_train:\n",
      "1    50.0\n",
      "0    50.0\n",
      "Name: Response, dtype: float64\n",
      "new y_test:\n",
      "1    50.0\n",
      "0    50.0\n",
      "Name: Response, dtype: float64\n"
     ]
    }
   ],
   "source": [
    "print('new y_train:')\n",
    "print(y_train.value_counts(normalize=True)*100)\n",
    "print('new y_test:')\n",
    "print(y_test.value_counts(normalize=True)*100)"
   ]
  },
  {
   "cell_type": "markdown",
   "id": "485e695a",
   "metadata": {},
   "source": [
    "#### Model development and evaluation\n",
    "- we will use various models for comparison"
   ]
  },
  {
   "cell_type": "code",
   "execution_count": 175,
   "id": "6535c09d",
   "metadata": {},
   "outputs": [],
   "source": [
    "#models\n",
    "from sklearn.linear_model import LogisticRegression\n",
    "from sklearn.tree import DecisionTreeClassifier\n",
    "from sklearn.ensemble import RandomForestClassifier\n",
    "from xgboost import XGBClassifier\n",
    "#evaluation matrix\n",
    "from sklearn.metrics import confusion_matrix\n",
    "from sklearn.metrics import accuracy_score\n",
    "from sklearn.metrics import f1_score"
   ]
  },
  {
   "cell_type": "code",
   "execution_count": 176,
   "id": "159bfab1",
   "metadata": {},
   "outputs": [],
   "source": [
    "# Initializing models\n",
    "lr = LogisticRegression()\n",
    "dt = DecisionTreeClassifier()\n",
    "rf = RandomForestClassifier()\n",
    "xgb = XGBClassifier()"
   ]
  },
  {
   "cell_type": "markdown",
   "id": "de366bf7",
   "metadata": {},
   "source": [
    "#### Logistic Regression"
   ]
  },
  {
   "cell_type": "code",
   "execution_count": 177,
   "id": "6b24e3ae",
   "metadata": {},
   "outputs": [],
   "source": [
    "# # Fit the model on train data\n",
    "# lr.fit(x_train,y_train)\n",
    "\n",
    "# # Make predictions using train data\n",
    "# y_pred_train = lr.predict(x_train)\n",
    "# # Make predictions using test data\n",
    "# y_pred_test = lr.predict(x_test)"
   ]
  },
  {
   "cell_type": "code",
   "execution_count": 178,
   "id": "e1ffcecd",
   "metadata": {},
   "outputs": [],
   "source": [
    "# # Calculate accuracy score\n",
    "# train_accuracy = accuracy_score(y_train, y_pred_train)\n",
    "# test_accuracy = accuracy_score(y_test, y_pred_test)\n",
    "\n",
    "# print(\"Train Accuracy:\", train_accuracy)\n",
    "# print(\"Test Accuracy:\", test_accuracy)\n",
    "\n",
    "# print('-'*120)\n",
    "\n",
    "# # Calculate F1 score\n",
    "# train_f1_score = f1_score(y_train, y_pred_train)\n",
    "# test_f1_score = f1_score(y_test, y_pred_test)\n",
    "\n",
    "# print(\"Train F1 Score:\", train_f1_score)\n",
    "# print(\"Test F1 Score:\", test_f1_score)\n",
    "\n",
    "# print('-'*120)\n",
    "\n",
    "# # Calculate confusion matrix\n",
    "# train_confusion_matrix = confusion_matrix(y_train, y_pred_train)\n",
    "# test_confusion_matrix = confusion_matrix(y_test, y_pred_test)\n",
    "\n",
    "# print(\"Train Confusion Matrix:\")\n",
    "# print(train_confusion_matrix)\n",
    "# print(\"Test Confusion Matrix:\")\n",
    "# print(test_confusion_matrix)"
   ]
  },
  {
   "cell_type": "markdown",
   "id": "bddaa4c6",
   "metadata": {},
   "source": [
    "#### Decision Tree Classifier"
   ]
  },
  {
   "cell_type": "code",
   "execution_count": 179,
   "id": "ec8c58dc",
   "metadata": {},
   "outputs": [],
   "source": [
    "# # Fit the model on train data\n",
    "# dt.fit(x_train,y_train)\n",
    "\n",
    "# # Make predictions using train data\n",
    "# y_pred_train = dt.predict(x_train)\n",
    "# # Make predictions using test data\n",
    "# y_pred_test = dt.predict(x_test)"
   ]
  },
  {
   "cell_type": "code",
   "execution_count": 180,
   "id": "e039bb90",
   "metadata": {},
   "outputs": [],
   "source": [
    "# # Calculate accuracy score\n",
    "# train_accuracy = accuracy_score(y_train, y_pred_train)\n",
    "# test_accuracy = accuracy_score(y_test, y_pred_test)\n",
    "\n",
    "# print(\"Train Accuracy:\", train_accuracy)\n",
    "# print(\"Test Accuracy:\", test_accuracy)\n",
    "\n",
    "# print('-'*120)\n",
    "\n",
    "# # Calculate F1 score\n",
    "# train_f1_score = f1_score(y_train, y_pred_train)\n",
    "# test_f1_score = f1_score(y_test, y_pred_test)\n",
    "\n",
    "# print(\"Train F1 Score:\", train_f1_score)\n",
    "# print(\"Test F1 Score:\", test_f1_score)\n",
    "\n",
    "# print('-'*120)\n",
    "\n",
    "# # Calculate confusion matrix\n",
    "# train_confusion_matrix = confusion_matrix(y_train, y_pred_train)\n",
    "# test_confusion_matrix = confusion_matrix(y_test, y_pred_test)\n",
    "\n",
    "# print(\"Train Confusion Matrix:\")\n",
    "# print(train_confusion_matrix)\n",
    "# print(\"Test Confusion Matrix:\")\n",
    "# print(test_confusion_matrix)"
   ]
  },
  {
   "cell_type": "markdown",
   "id": "69919284",
   "metadata": {},
   "source": [
    "#### Random Forest"
   ]
  },
  {
   "cell_type": "code",
   "execution_count": 181,
   "id": "75cc11a5",
   "metadata": {},
   "outputs": [],
   "source": [
    "# # Fit the model on train data\n",
    "# rf.fit(x_train,y_train)\n",
    "\n",
    "# # Make predictions using train data\n",
    "# y_pred_train = rf.predict(x_train)\n",
    "# # Make predictions using test data\n",
    "# y_pred_test = rf.predict(x_test)"
   ]
  },
  {
   "cell_type": "code",
   "execution_count": 182,
   "id": "9382d2d8",
   "metadata": {},
   "outputs": [],
   "source": [
    "# # Calculate accuracy score\n",
    "# train_accuracy = accuracy_score(y_train, y_pred_train)\n",
    "# test_accuracy = accuracy_score(y_test, y_pred_test)\n",
    "\n",
    "# print(\"Train Accuracy:\", train_accuracy)\n",
    "# print(\"Test Accuracy:\", test_accuracy)\n",
    "\n",
    "# print('-'*120)\n",
    "\n",
    "# # Calculate F1 score\n",
    "# train_f1_score = f1_score(y_train, y_pred_train)\n",
    "# test_f1_score = f1_score(y_test, y_pred_test)\n",
    "\n",
    "# print(\"Train F1 Score:\", train_f1_score)\n",
    "# print(\"Test F1 Score:\", test_f1_score)\n",
    "\n",
    "# print('-'*120)\n",
    "\n",
    "# # Calculate confusion matrix\n",
    "# train_confusion_matrix = confusion_matrix(y_train, y_pred_train)\n",
    "# test_confusion_matrix = confusion_matrix(y_test, y_pred_test)\n",
    "\n",
    "# print(\"Train Confusion Matrix:\")\n",
    "# print(train_confusion_matrix)\n",
    "# print(\"Test Confusion Matrix:\")\n",
    "# print(test_confusion_matrix)"
   ]
  },
  {
   "cell_type": "markdown",
   "id": "931e6f6a",
   "metadata": {},
   "source": [
    "#### Xgboost"
   ]
  },
  {
   "cell_type": "code",
   "execution_count": 183,
   "id": "f2be9f02",
   "metadata": {},
   "outputs": [],
   "source": [
    "# # Fit the model on train data\n",
    "# xgb.fit(x_train,y_train)\n",
    "\n",
    "# # Make predictions using train data\n",
    "# y_pred_train = xgb.predict(x_train)\n",
    "# # Make predictions using test data\n",
    "# y_pred_test = xgb.predict(x_test)"
   ]
  },
  {
   "cell_type": "code",
   "execution_count": 184,
   "id": "94443855",
   "metadata": {},
   "outputs": [],
   "source": [
    "# # Calculate accuracy score\n",
    "# train_accuracy = accuracy_score(y_train, y_pred_train)\n",
    "# test_accuracy = accuracy_score(y_test, y_pred_test)\n",
    "\n",
    "# print(\"Train Accuracy:\", train_accuracy)\n",
    "# print(\"Test Accuracy:\", test_accuracy)\n",
    "\n",
    "# print('-'*120)\n",
    "\n",
    "# # Calculate F1 score\n",
    "# train_f1_score = f1_score(y_train, y_pred_train)\n",
    "# test_f1_score = f1_score(y_test, y_pred_test)\n",
    "\n",
    "# print(\"Train F1 Score:\", train_f1_score)\n",
    "# print(\"Test F1 Score:\", test_f1_score)\n",
    "\n",
    "# print('-'*120)\n",
    "\n",
    "# # Calculate confusion matrix\n",
    "# train_confusion_matrix = confusion_matrix(y_train, y_pred_train)\n",
    "# test_confusion_matrix = confusion_matrix(y_test, y_pred_test)\n",
    "\n",
    "# print(\"Train Confusion Matrix:\")\n",
    "# print(train_confusion_matrix)\n",
    "# print(\"Test Confusion Matrix:\")\n",
    "# print(test_confusion_matrix)"
   ]
  },
  {
   "cell_type": "code",
   "execution_count": 185,
   "id": "c5e62a8a",
   "metadata": {},
   "outputs": [
    {
     "data": {
      "text/html": [
       "<div>\n",
       "<style scoped>\n",
       "    .dataframe tbody tr th:only-of-type {\n",
       "        vertical-align: middle;\n",
       "    }\n",
       "\n",
       "    .dataframe tbody tr th {\n",
       "        vertical-align: top;\n",
       "    }\n",
       "\n",
       "    .dataframe thead th {\n",
       "        text-align: right;\n",
       "    }\n",
       "</style>\n",
       "<table border=\"1\" class=\"dataframe\">\n",
       "  <thead>\n",
       "    <tr style=\"text-align: right;\">\n",
       "      <th></th>\n",
       "      <th>0</th>\n",
       "      <th>1</th>\n",
       "      <th>2</th>\n",
       "      <th>3</th>\n",
       "    </tr>\n",
       "  </thead>\n",
       "  <tbody>\n",
       "    <tr>\n",
       "      <th>Model</th>\n",
       "      <td>Logistic_Regression</td>\n",
       "      <td>Random_Forest</td>\n",
       "      <td>Decision_Tree</td>\n",
       "      <td>XgBoost</td>\n",
       "    </tr>\n",
       "    <tr>\n",
       "      <th>Train Accuracy</th>\n",
       "      <td>60.601849</td>\n",
       "      <td>99.998384</td>\n",
       "      <td>99.998384</td>\n",
       "      <td>84.480251</td>\n",
       "    </tr>\n",
       "    <tr>\n",
       "      <th>Test Accuracy</th>\n",
       "      <td>59.870718</td>\n",
       "      <td>84.5766</td>\n",
       "      <td>76.483516</td>\n",
       "      <td>82.676147</td>\n",
       "    </tr>\n",
       "    <tr>\n",
       "      <th>Train F1 Score</th>\n",
       "      <td>61.968799</td>\n",
       "      <td>99.998384</td>\n",
       "      <td>99.998384</td>\n",
       "      <td>82.202495</td>\n",
       "    </tr>\n",
       "    <tr>\n",
       "      <th>Test F1 Score</th>\n",
       "      <td>61.063723</td>\n",
       "      <td>83.699959</td>\n",
       "      <td>76.816212</td>\n",
       "      <td>80.130486</td>\n",
       "    </tr>\n",
       "  </tbody>\n",
       "</table>\n",
       "</div>"
      ],
      "text/plain": [
       "                                  0              1              2          3\n",
       "Model           Logistic_Regression  Random_Forest  Decision_Tree    XgBoost\n",
       "Train Accuracy            60.601849      99.998384      99.998384  84.480251\n",
       "Test Accuracy             59.870718        84.5766      76.483516  82.676147\n",
       "Train F1 Score            61.968799      99.998384      99.998384  82.202495\n",
       "Test F1 Score             61.063723      83.699959      76.816212  80.130486"
      ]
     },
     "execution_count": 185,
     "metadata": {},
     "output_type": "execute_result"
    }
   ],
   "source": [
    "# Define the models to evaluate\n",
    "models = [\n",
    "    ('Logistic_Regression', lr),\n",
    "    ('Random_Forest', rf),\n",
    "    ('Decision_Tree', dt),\n",
    "    ('XgBoost', xgb)\n",
    "]\n",
    "\n",
    "# Create an empty DataFrame to store the results\n",
    "results_df = pd.DataFrame(columns=['Model', 'Train Accuracy', 'Test Accuracy',  'Train F1 Score', 'Test F1 Score'])\n",
    "\n",
    "# Iterate over the models\n",
    "for name, model in models:\n",
    "    \n",
    "    # Fit the model on the training data\n",
    "    model.fit(x_train, y_train)\n",
    "    \n",
    "    # Make predictions on the training and test data\n",
    "    y_train_pred = model.predict(x_train)\n",
    "    y_test_pred = model.predict(x_test)\n",
    "    \n",
    "    # Calculate evaluation metrics for training data\n",
    "    train_accuracy = (accuracy_score(y_train, y_train_pred))*100\n",
    "    train_f1 = (f1_score(y_train, y_train_pred))*100\n",
    "    \n",
    "    # Calculate evaluation metrics for test data\n",
    "    test_accuracy = (accuracy_score(y_test, y_test_pred))*100\n",
    "    test_f1 = (f1_score(y_test, y_test_pred))*100\n",
    "    \n",
    "#     # Store the results in the DataFrame\n",
    "    results_df = results_df.append({'Model': name,\n",
    "                                    'Train Accuracy': train_accuracy,\n",
    "                                    'Test Accuracy': test_accuracy,\n",
    "                                    'Train F1 Score': train_f1,\n",
    "                                    'Test F1 Score': test_f1,}, ignore_index=True)\n",
    "    \n",
    "results_df.T"
   ]
  },
  {
   "cell_type": "markdown",
   "id": "950bc7a3",
   "metadata": {},
   "source": [
    "#### Observation:\n",
    "- The Logistic Regression model appears to be underfitting the data since its accuracy and F1 score are relatively low for both the training and testing data. It may not be capturing the underlying patterns in the data well.\n",
    "- The Decision Tree and Random Forest models seem to be overfitting the data since they have very high accuracy and F1 score on the training data, but their performance drops on the testing data. This indicates that they may have learned the training data too well and are unable to generalize well to new, unseen data.\n",
    "- The XG Boost model shows a good balance between training and testing performance, with high accuracy and F1 score on both datasets. It seems to generalize well to unseen data"
   ]
  },
  {
   "cell_type": "markdown",
   "id": "a5aad68d",
   "metadata": {},
   "source": [
    "- Based on the bias-variance tradeoff and performance on the testing data, the XGBoost model appears to be the best model among the ones evaluated."
   ]
  },
  {
   "cell_type": "code",
   "execution_count": 186,
   "id": "090dc5cc",
   "metadata": {},
   "outputs": [
    {
     "data": {
      "image/png": "[encoded data removed]",
      "text/plain": [
       "<Figure size 1440x720 with 1 Axes>"
      ]
     },
     "metadata": {
      "needs_background": "light"
     },
     "output_type": "display_data"
    }
   ],
   "source": [
    "clf_feature = pd.DataFrame({'Importance':xgb.feature_importances_,'Column':trans_df_x.columns})\n",
    "clf_feature = clf_feature.sort_values(by='Importance',ascending=False) \n",
    "clf_feature = clf_feature[:8] # top 8 features\n",
    "clf_feature.plot(kind='barh',x='Column',y='Importance',figsize=(20, 10))\n",
    "plt.title('XGBoost Feature Importance \\n',fontsize=16)\n",
    "plt.show()"
   ]
  },
  {
   "cell_type": "markdown",
   "id": "b98303a5",
   "metadata": {},
   "source": [
    "#### Observation:\n",
    "\n",
    "Based on the analysis of the models and the feature importance, the following observations can be made:\n",
    "\n",
    "1. The dataset shows that the majority of people (76%) are not interested in the health policy, while only 24% are interested. The XGBoost model performed the best among the evaluated models, striking a balance between training and testing performance. Certain features, such as 'Reco_Policy_Cat_6', 'Holding_Policy_Duration_11', and 'City_Code_C17', were found to contribute more to the recommendation process.\n",
    "\n",
    "2. Further analysis revealed that the city code plays a role in the response to the health policy, with certain cities having higher proportions of positive responses. The type of accommodation was also found to influence interest, with clients who own their accommodation showing a higher count of positive responses. The recommended insurance type was dominated by individual policies.\n",
    "\n",
    "3. The age of customers did not show a significant difference between those interested and not interested in the health policy. Having a spouse seemed to have a slight influence, with customers with a spouse showing a slightly higher proportion of positive responses. The health indicator and the duration of the holding policy also showed some influence on the response."
   ]
  },
  {
   "cell_type": "markdown",
   "id": "1fd01361",
   "metadata": {},
   "source": [
    "#### Conclusion:\n",
    "\n",
    "In conclusion, the XGBoost model is recommended as the best model for this classification task. It exhibits a good balance between bias and variance, providing good performance on both the training and testing data. The feature importance analysis provides insights into the important features that contribute to the model's predictions. Further analysis and improvements can be made by considering feature engineering, fine-tuning hyperparameters, and exploring ensemble methods to potentially enhance the model's performance."
   ]
  }
 ],
 "metadata": {
  "kernelspec": {
   "display_name": "Python 3 (ipykernel)",
   "language": "python",
   "name": "python3"
  },
  "language_info": {
   "codemirror_mode": {
    "name": "ipython",
    "version": 3
   },
   "file_extension": ".py",
   "mimetype": "text/x-python",
   "name": "python",
   "nbconvert_exporter": "python",
   "pygments_lexer": "ipython3",
   "version": "3.9.12"
  }
 },
 "nbformat": 4,
 "nbformat_minor": 5
}
